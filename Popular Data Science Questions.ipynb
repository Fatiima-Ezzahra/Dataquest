{
 "cells": [
  {
   "cell_type": "markdown",
   "metadata": {},
   "source": [
    "# Guided Project: Popular Data Science Questions"
   ]
  },
  {
   "cell_type": "markdown",
   "metadata": {},
   "source": [
    "In this project, we'll work on [The Data Science Stack Exchange website (DSSE)](https://datascience.stackexchange.com/), to determine which topics are most popular/asked about."
   ]
  },
  {
   "cell_type": "markdown",
   "metadata": {},
   "source": [
    "Stack Exchange provides a public data base for each of its websites. [Here](https://data.stackexchange.com/datascience/query/new)'s a link to query and explore Data Science Stack Exchange's database."
   ]
  },
  {
   "cell_type": "markdown",
   "metadata": {},
   "source": [
    "## Stack Exchange Data Explorer "
   ]
  },
  {
   "cell_type": "markdown",
   "metadata": {},
   "source": [
    "After looking at some tables in the database, these look promising :\n",
    "* Posts\n",
    "* PostTags\n",
    "* Tags\n",
    "\n",
    "We can also use the table PostTypes to get the post type from the **PostTypeId** column in Posts."
   ]
  },
  {
   "cell_type": "markdown",
   "metadata": {},
   "source": [
    "We'll focus on these columns : \n",
    "* **Id** : An identification number for the post.\n",
    "* **PostTypeId** : An identification number for the type of post.\n",
    "* **CreationDate** : The date and time of creation of the post.\n",
    "* **Score** : The post's score.\n",
    "* **ViewCount** : How many times the post was viewed.\n",
    "* **Tags** : What tags were used.\n",
    "* **AnswerCount** : How many answers the question got (only applicable to question posts).\n",
    "* **FavoriteCount** : How many times the question was favored (only applicable to question posts)."
   ]
  },
  {
   "cell_type": "markdown",
   "metadata": {},
   "source": [
    "We're only going to focus on question posts of 2019."
   ]
  },
  {
   "cell_type": "markdown",
   "metadata": {},
   "source": [
    "## Getting the data"
   ]
  },
  {
   "cell_type": "markdown",
   "metadata": {},
   "source": [
    "To get the data, we run the following query :\n",
    "\n",
    "    select Id, PostTypeId, CreationDate, \n",
    "           Score, ViewCount, Tags, \n",
    "           AnswerCount, FavoriteCount \n",
    "    from Posts\n",
    "    where PostTypeId = 1 AND YEAR(CreationDate) = 2019;"
   ]
  },
  {
   "cell_type": "markdown",
   "metadata": {},
   "source": [
    "## Exploring the data"
   ]
  },
  {
   "cell_type": "code",
   "execution_count": 11,
   "metadata": {
    "collapsed": false
   },
   "outputs": [],
   "source": [
    "import pandas as pd\n",
    "\n",
    "data = pd.read_csv(\"2019_questions.csv\", parse_dates=[\"CreationDate\"])"
   ]
  },
  {
   "cell_type": "code",
   "execution_count": 12,
   "metadata": {
    "collapsed": false
   },
   "outputs": [
    {
     "data": {
      "text/html": [
       "<div>\n",
       "<style scoped>\n",
       "    .dataframe tbody tr th:only-of-type {\n",
       "        vertical-align: middle;\n",
       "    }\n",
       "\n",
       "    .dataframe tbody tr th {\n",
       "        vertical-align: top;\n",
       "    }\n",
       "\n",
       "    .dataframe thead th {\n",
       "        text-align: right;\n",
       "    }\n",
       "</style>\n",
       "<table border=\"1\" class=\"dataframe\">\n",
       "  <thead>\n",
       "    <tr style=\"text-align: right;\">\n",
       "      <th></th>\n",
       "      <th>Id</th>\n",
       "      <th>CreationDate</th>\n",
       "      <th>Score</th>\n",
       "      <th>ViewCount</th>\n",
       "      <th>Tags</th>\n",
       "      <th>AnswerCount</th>\n",
       "      <th>FavoriteCount</th>\n",
       "    </tr>\n",
       "  </thead>\n",
       "  <tbody>\n",
       "    <tr>\n",
       "      <th>0</th>\n",
       "      <td>44419</td>\n",
       "      <td>2019-01-23 09:21:13</td>\n",
       "      <td>1</td>\n",
       "      <td>21</td>\n",
       "      <td>&lt;machine-learning&gt;&lt;data-mining&gt;</td>\n",
       "      <td>0</td>\n",
       "      <td>NaN</td>\n",
       "    </tr>\n",
       "    <tr>\n",
       "      <th>1</th>\n",
       "      <td>44420</td>\n",
       "      <td>2019-01-23 09:34:01</td>\n",
       "      <td>0</td>\n",
       "      <td>25</td>\n",
       "      <td>&lt;machine-learning&gt;&lt;regression&gt;&lt;linear-regressi...</td>\n",
       "      <td>0</td>\n",
       "      <td>NaN</td>\n",
       "    </tr>\n",
       "    <tr>\n",
       "      <th>2</th>\n",
       "      <td>44423</td>\n",
       "      <td>2019-01-23 09:58:41</td>\n",
       "      <td>2</td>\n",
       "      <td>1651</td>\n",
       "      <td>&lt;python&gt;&lt;time-series&gt;&lt;forecast&gt;&lt;forecasting&gt;</td>\n",
       "      <td>0</td>\n",
       "      <td>NaN</td>\n",
       "    </tr>\n",
       "    <tr>\n",
       "      <th>3</th>\n",
       "      <td>44427</td>\n",
       "      <td>2019-01-23 10:57:09</td>\n",
       "      <td>0</td>\n",
       "      <td>55</td>\n",
       "      <td>&lt;machine-learning&gt;&lt;scikit-learn&gt;&lt;pca&gt;</td>\n",
       "      <td>1</td>\n",
       "      <td>NaN</td>\n",
       "    </tr>\n",
       "    <tr>\n",
       "      <th>4</th>\n",
       "      <td>44428</td>\n",
       "      <td>2019-01-23 11:02:15</td>\n",
       "      <td>0</td>\n",
       "      <td>19</td>\n",
       "      <td>&lt;dataset&gt;&lt;bigdata&gt;&lt;data&gt;&lt;speech-to-text&gt;</td>\n",
       "      <td>0</td>\n",
       "      <td>NaN</td>\n",
       "    </tr>\n",
       "  </tbody>\n",
       "</table>\n",
       "</div>"
      ],
      "text/plain": [
       "      Id        CreationDate  Score  ViewCount  \\\n",
       "0  44419 2019-01-23 09:21:13      1         21   \n",
       "1  44420 2019-01-23 09:34:01      0         25   \n",
       "2  44423 2019-01-23 09:58:41      2       1651   \n",
       "3  44427 2019-01-23 10:57:09      0         55   \n",
       "4  44428 2019-01-23 11:02:15      0         19   \n",
       "\n",
       "                                                Tags  AnswerCount  \\\n",
       "0                    <machine-learning><data-mining>            0   \n",
       "1  <machine-learning><regression><linear-regressi...            0   \n",
       "2       <python><time-series><forecast><forecasting>            0   \n",
       "3              <machine-learning><scikit-learn><pca>            1   \n",
       "4           <dataset><bigdata><data><speech-to-text>            0   \n",
       "\n",
       "   FavoriteCount  \n",
       "0            NaN  \n",
       "1            NaN  \n",
       "2            NaN  \n",
       "3            NaN  \n",
       "4            NaN  "
      ]
     },
     "execution_count": 12,
     "metadata": {},
     "output_type": "execute_result"
    }
   ],
   "source": [
    "data.head()"
   ]
  },
  {
   "cell_type": "markdown",
   "metadata": {},
   "source": [
    "We can already see some missing values. Let's inspect them."
   ]
  },
  {
   "cell_type": "code",
   "execution_count": 13,
   "metadata": {
    "collapsed": false
   },
   "outputs": [
    {
     "name": "stdout",
     "output_type": "stream",
     "text": [
      "<class 'pandas.core.frame.DataFrame'>\n",
      "RangeIndex: 8839 entries, 0 to 8838\n",
      "Data columns (total 7 columns):\n",
      "Id               8839 non-null int64\n",
      "CreationDate     8839 non-null datetime64[ns]\n",
      "Score            8839 non-null int64\n",
      "ViewCount        8839 non-null int64\n",
      "Tags             8839 non-null object\n",
      "AnswerCount      8839 non-null int64\n",
      "FavoriteCount    1407 non-null float64\n",
      "dtypes: datetime64[ns](1), float64(1), int64(4), object(1)\n",
      "memory usage: 483.5+ KB\n"
     ]
    }
   ],
   "source": [
    "data.info()"
   ]
  },
  {
   "cell_type": "markdown",
   "metadata": {},
   "source": [
    "We can see that **FavoriteCount** is the only column with missing values, counting 7432 null value. This means that these questions don't appear in anyone's favorites. We can change these values to 0."
   ]
  },
  {
   "cell_type": "markdown",
   "metadata": {},
   "source": [
    "## Data Cleaning"
   ]
  },
  {
   "cell_type": "code",
   "execution_count": 14,
   "metadata": {
    "collapsed": false
   },
   "outputs": [],
   "source": [
    "data[\"FavoriteCount\"].fillna(0, inplace=True)\n",
    "data[\"FavoriteCount\"] = data[\"FavoriteCount\"].astype(int)"
   ]
  },
  {
   "cell_type": "code",
   "execution_count": 15,
   "metadata": {
    "collapsed": false
   },
   "outputs": [
    {
     "data": {
      "text/html": [
       "<div>\n",
       "<style scoped>\n",
       "    .dataframe tbody tr th:only-of-type {\n",
       "        vertical-align: middle;\n",
       "    }\n",
       "\n",
       "    .dataframe tbody tr th {\n",
       "        vertical-align: top;\n",
       "    }\n",
       "\n",
       "    .dataframe thead th {\n",
       "        text-align: right;\n",
       "    }\n",
       "</style>\n",
       "<table border=\"1\" class=\"dataframe\">\n",
       "  <thead>\n",
       "    <tr style=\"text-align: right;\">\n",
       "      <th></th>\n",
       "      <th>Id</th>\n",
       "      <th>CreationDate</th>\n",
       "      <th>Score</th>\n",
       "      <th>ViewCount</th>\n",
       "      <th>Tags</th>\n",
       "      <th>AnswerCount</th>\n",
       "      <th>FavoriteCount</th>\n",
       "    </tr>\n",
       "  </thead>\n",
       "  <tbody>\n",
       "    <tr>\n",
       "      <th>0</th>\n",
       "      <td>44419</td>\n",
       "      <td>2019-01-23 09:21:13</td>\n",
       "      <td>1</td>\n",
       "      <td>21</td>\n",
       "      <td>&lt;machine-learning&gt;&lt;data-mining&gt;</td>\n",
       "      <td>0</td>\n",
       "      <td>0</td>\n",
       "    </tr>\n",
       "    <tr>\n",
       "      <th>1</th>\n",
       "      <td>44420</td>\n",
       "      <td>2019-01-23 09:34:01</td>\n",
       "      <td>0</td>\n",
       "      <td>25</td>\n",
       "      <td>&lt;machine-learning&gt;&lt;regression&gt;&lt;linear-regressi...</td>\n",
       "      <td>0</td>\n",
       "      <td>0</td>\n",
       "    </tr>\n",
       "    <tr>\n",
       "      <th>2</th>\n",
       "      <td>44423</td>\n",
       "      <td>2019-01-23 09:58:41</td>\n",
       "      <td>2</td>\n",
       "      <td>1651</td>\n",
       "      <td>&lt;python&gt;&lt;time-series&gt;&lt;forecast&gt;&lt;forecasting&gt;</td>\n",
       "      <td>0</td>\n",
       "      <td>0</td>\n",
       "    </tr>\n",
       "    <tr>\n",
       "      <th>3</th>\n",
       "      <td>44427</td>\n",
       "      <td>2019-01-23 10:57:09</td>\n",
       "      <td>0</td>\n",
       "      <td>55</td>\n",
       "      <td>&lt;machine-learning&gt;&lt;scikit-learn&gt;&lt;pca&gt;</td>\n",
       "      <td>1</td>\n",
       "      <td>0</td>\n",
       "    </tr>\n",
       "    <tr>\n",
       "      <th>4</th>\n",
       "      <td>44428</td>\n",
       "      <td>2019-01-23 11:02:15</td>\n",
       "      <td>0</td>\n",
       "      <td>19</td>\n",
       "      <td>&lt;dataset&gt;&lt;bigdata&gt;&lt;data&gt;&lt;speech-to-text&gt;</td>\n",
       "      <td>0</td>\n",
       "      <td>0</td>\n",
       "    </tr>\n",
       "  </tbody>\n",
       "</table>\n",
       "</div>"
      ],
      "text/plain": [
       "      Id        CreationDate  Score  ViewCount  \\\n",
       "0  44419 2019-01-23 09:21:13      1         21   \n",
       "1  44420 2019-01-23 09:34:01      0         25   \n",
       "2  44423 2019-01-23 09:58:41      2       1651   \n",
       "3  44427 2019-01-23 10:57:09      0         55   \n",
       "4  44428 2019-01-23 11:02:15      0         19   \n",
       "\n",
       "                                                Tags  AnswerCount  \\\n",
       "0                    <machine-learning><data-mining>            0   \n",
       "1  <machine-learning><regression><linear-regressi...            0   \n",
       "2       <python><time-series><forecast><forecasting>            0   \n",
       "3              <machine-learning><scikit-learn><pca>            1   \n",
       "4           <dataset><bigdata><data><speech-to-text>            0   \n",
       "\n",
       "   FavoriteCount  \n",
       "0              0  \n",
       "1              0  \n",
       "2              0  \n",
       "3              0  \n",
       "4              0  "
      ]
     },
     "execution_count": 15,
     "metadata": {},
     "output_type": "execute_result"
    }
   ],
   "source": [
    "data.head()"
   ]
  },
  {
   "cell_type": "code",
   "execution_count": 16,
   "metadata": {
    "collapsed": false
   },
   "outputs": [],
   "source": [
    "data[\"Tags\"] = data[\"Tags\"].str.replace(\"^<|>$\", \"\").str.split(\"><\")"
   ]
  },
  {
   "cell_type": "code",
   "execution_count": 17,
   "metadata": {
    "collapsed": false
   },
   "outputs": [
    {
     "data": {
      "text/html": [
       "<div>\n",
       "<style scoped>\n",
       "    .dataframe tbody tr th:only-of-type {\n",
       "        vertical-align: middle;\n",
       "    }\n",
       "\n",
       "    .dataframe tbody tr th {\n",
       "        vertical-align: top;\n",
       "    }\n",
       "\n",
       "    .dataframe thead th {\n",
       "        text-align: right;\n",
       "    }\n",
       "</style>\n",
       "<table border=\"1\" class=\"dataframe\">\n",
       "  <thead>\n",
       "    <tr style=\"text-align: right;\">\n",
       "      <th></th>\n",
       "      <th>Id</th>\n",
       "      <th>CreationDate</th>\n",
       "      <th>Score</th>\n",
       "      <th>ViewCount</th>\n",
       "      <th>Tags</th>\n",
       "      <th>AnswerCount</th>\n",
       "      <th>FavoriteCount</th>\n",
       "    </tr>\n",
       "  </thead>\n",
       "  <tbody>\n",
       "    <tr>\n",
       "      <th>0</th>\n",
       "      <td>44419</td>\n",
       "      <td>2019-01-23 09:21:13</td>\n",
       "      <td>1</td>\n",
       "      <td>21</td>\n",
       "      <td>[machine-learning, data-mining]</td>\n",
       "      <td>0</td>\n",
       "      <td>0</td>\n",
       "    </tr>\n",
       "    <tr>\n",
       "      <th>1</th>\n",
       "      <td>44420</td>\n",
       "      <td>2019-01-23 09:34:01</td>\n",
       "      <td>0</td>\n",
       "      <td>25</td>\n",
       "      <td>[machine-learning, regression, linear-regressi...</td>\n",
       "      <td>0</td>\n",
       "      <td>0</td>\n",
       "    </tr>\n",
       "    <tr>\n",
       "      <th>2</th>\n",
       "      <td>44423</td>\n",
       "      <td>2019-01-23 09:58:41</td>\n",
       "      <td>2</td>\n",
       "      <td>1651</td>\n",
       "      <td>[python, time-series, forecast, forecasting]</td>\n",
       "      <td>0</td>\n",
       "      <td>0</td>\n",
       "    </tr>\n",
       "    <tr>\n",
       "      <th>3</th>\n",
       "      <td>44427</td>\n",
       "      <td>2019-01-23 10:57:09</td>\n",
       "      <td>0</td>\n",
       "      <td>55</td>\n",
       "      <td>[machine-learning, scikit-learn, pca]</td>\n",
       "      <td>1</td>\n",
       "      <td>0</td>\n",
       "    </tr>\n",
       "    <tr>\n",
       "      <th>4</th>\n",
       "      <td>44428</td>\n",
       "      <td>2019-01-23 11:02:15</td>\n",
       "      <td>0</td>\n",
       "      <td>19</td>\n",
       "      <td>[dataset, bigdata, data, speech-to-text]</td>\n",
       "      <td>0</td>\n",
       "      <td>0</td>\n",
       "    </tr>\n",
       "  </tbody>\n",
       "</table>\n",
       "</div>"
      ],
      "text/plain": [
       "      Id        CreationDate  Score  ViewCount  \\\n",
       "0  44419 2019-01-23 09:21:13      1         21   \n",
       "1  44420 2019-01-23 09:34:01      0         25   \n",
       "2  44423 2019-01-23 09:58:41      2       1651   \n",
       "3  44427 2019-01-23 10:57:09      0         55   \n",
       "4  44428 2019-01-23 11:02:15      0         19   \n",
       "\n",
       "                                                Tags  AnswerCount  \\\n",
       "0                    [machine-learning, data-mining]            0   \n",
       "1  [machine-learning, regression, linear-regressi...            0   \n",
       "2       [python, time-series, forecast, forecasting]            0   \n",
       "3              [machine-learning, scikit-learn, pca]            1   \n",
       "4           [dataset, bigdata, data, speech-to-text]            0   \n",
       "\n",
       "   FavoriteCount  \n",
       "0              0  \n",
       "1              0  \n",
       "2              0  \n",
       "3              0  \n",
       "4              0  "
      ]
     },
     "execution_count": 17,
     "metadata": {},
     "output_type": "execute_result"
    }
   ],
   "source": [
    "data.head()"
   ]
  },
  {
   "cell_type": "markdown",
   "metadata": {},
   "source": [
    "## Most used & most viewed Tags"
   ]
  },
  {
   "cell_type": "markdown",
   "metadata": {},
   "source": [
    "We'll start by counting how many times each tag was used."
   ]
  },
  {
   "cell_type": "code",
   "execution_count": 18,
   "metadata": {
    "collapsed": true
   },
   "outputs": [],
   "source": [
    "tag_count = dict()\n",
    "\n",
    "for tags in data[\"Tags\"]:\n",
    "    for tag in tags:\n",
    "        if tag in tag_count:\n",
    "            tag_count[tag] += 1\n",
    "        else:\n",
    "            tag_count[tag] = 1"
   ]
  },
  {
   "cell_type": "code",
   "execution_count": 19,
   "metadata": {
    "collapsed": false
   },
   "outputs": [],
   "source": [
    "tag_count = pd.DataFrame.from_dict(tag_count,orient=\"index\")\n",
    "tag_count.rename(columns={0: \"Count\"}, inplace=True)\n",
    "most_used = tag_count.sort_values(\"Count\", ascending=True).tail(20)"
   ]
  },
  {
   "cell_type": "code",
   "execution_count": 20,
   "metadata": {
    "collapsed": false
   },
   "outputs": [
    {
     "data": {
      "text/html": [
       "<div>\n",
       "<style scoped>\n",
       "    .dataframe tbody tr th:only-of-type {\n",
       "        vertical-align: middle;\n",
       "    }\n",
       "\n",
       "    .dataframe tbody tr th {\n",
       "        vertical-align: top;\n",
       "    }\n",
       "\n",
       "    .dataframe thead th {\n",
       "        text-align: right;\n",
       "    }\n",
       "</style>\n",
       "<table border=\"1\" class=\"dataframe\">\n",
       "  <thead>\n",
       "    <tr style=\"text-align: right;\">\n",
       "      <th></th>\n",
       "      <th>Count</th>\n",
       "    </tr>\n",
       "  </thead>\n",
       "  <tbody>\n",
       "    <tr>\n",
       "      <th>machine-learning-model</th>\n",
       "      <td>224</td>\n",
       "    </tr>\n",
       "    <tr>\n",
       "      <th>statistics</th>\n",
       "      <td>234</td>\n",
       "    </tr>\n",
       "    <tr>\n",
       "      <th>clustering</th>\n",
       "      <td>257</td>\n",
       "    </tr>\n",
       "    <tr>\n",
       "      <th>predictive-modeling</th>\n",
       "      <td>265</td>\n",
       "    </tr>\n",
       "    <tr>\n",
       "      <th>r</th>\n",
       "      <td>268</td>\n",
       "    </tr>\n",
       "    <tr>\n",
       "      <th>dataset</th>\n",
       "      <td>340</td>\n",
       "    </tr>\n",
       "    <tr>\n",
       "      <th>regression</th>\n",
       "      <td>347</td>\n",
       "    </tr>\n",
       "    <tr>\n",
       "      <th>pandas</th>\n",
       "      <td>354</td>\n",
       "    </tr>\n",
       "    <tr>\n",
       "      <th>lstm</th>\n",
       "      <td>402</td>\n",
       "    </tr>\n",
       "    <tr>\n",
       "      <th>time-series</th>\n",
       "      <td>466</td>\n",
       "    </tr>\n",
       "    <tr>\n",
       "      <th>cnn</th>\n",
       "      <td>489</td>\n",
       "    </tr>\n",
       "    <tr>\n",
       "      <th>nlp</th>\n",
       "      <td>493</td>\n",
       "    </tr>\n",
       "    <tr>\n",
       "      <th>scikit-learn</th>\n",
       "      <td>540</td>\n",
       "    </tr>\n",
       "    <tr>\n",
       "      <th>tensorflow</th>\n",
       "      <td>584</td>\n",
       "    </tr>\n",
       "    <tr>\n",
       "      <th>classification</th>\n",
       "      <td>685</td>\n",
       "    </tr>\n",
       "    <tr>\n",
       "      <th>keras</th>\n",
       "      <td>935</td>\n",
       "    </tr>\n",
       "    <tr>\n",
       "      <th>neural-network</th>\n",
       "      <td>1055</td>\n",
       "    </tr>\n",
       "    <tr>\n",
       "      <th>deep-learning</th>\n",
       "      <td>1220</td>\n",
       "    </tr>\n",
       "    <tr>\n",
       "      <th>python</th>\n",
       "      <td>1814</td>\n",
       "    </tr>\n",
       "    <tr>\n",
       "      <th>machine-learning</th>\n",
       "      <td>2693</td>\n",
       "    </tr>\n",
       "  </tbody>\n",
       "</table>\n",
       "</div>"
      ],
      "text/plain": [
       "                        Count\n",
       "machine-learning-model    224\n",
       "statistics                234\n",
       "clustering                257\n",
       "predictive-modeling       265\n",
       "r                         268\n",
       "dataset                   340\n",
       "regression                347\n",
       "pandas                    354\n",
       "lstm                      402\n",
       "time-series               466\n",
       "cnn                       489\n",
       "nlp                       493\n",
       "scikit-learn              540\n",
       "tensorflow                584\n",
       "classification            685\n",
       "keras                     935\n",
       "neural-network           1055\n",
       "deep-learning            1220\n",
       "python                   1814\n",
       "machine-learning         2693"
      ]
     },
     "execution_count": 20,
     "metadata": {},
     "output_type": "execute_result"
    }
   ],
   "source": [
    "most_used"
   ]
  },
  {
   "cell_type": "code",
   "execution_count": 21,
   "metadata": {
    "collapsed": false
   },
   "outputs": [
    {
     "data": {
      "text/plain": [
       "<matplotlib.axes._subplots.AxesSubplot at 0x7f77e01f31d0>"
      ]
     },
     "execution_count": 21,
     "metadata": {},
     "output_type": "execute_result"
    },
    {
     "data": {
      "image/png": "[encoded data removed]",
      "text/plain": [
       "<matplotlib.figure.Figure at 0x7f77e01c0ba8>"
      ]
     },
     "metadata": {},
     "output_type": "display_data"
    }
   ],
   "source": [
    "import matplotlib.pyplot as plt\n",
    "\n",
    "%matplotlib inline\n",
    "most_used.plot(kind=\"barh\")"
   ]
  },
  {
   "cell_type": "markdown",
   "metadata": {},
   "source": [
    "Now, we'll count views per tag."
   ]
  },
  {
   "cell_type": "code",
   "execution_count": 22,
   "metadata": {
    "collapsed": true
   },
   "outputs": [],
   "source": [
    "tag_views = {}\n",
    "\n",
    "for i, tags in enumerate(data[\"Tags\"]):\n",
    "    for tag in tags:\n",
    "        if tag in tag_views:\n",
    "            tag_views[tag]+= data[\"ViewCount\"].iloc[i]\n",
    "        else:\n",
    "            tag_views[tag]=1"
   ]
  },
  {
   "cell_type": "code",
   "execution_count": 23,
   "metadata": {
    "collapsed": true
   },
   "outputs": [],
   "source": [
    "tag_view_count = pd.DataFrame.from_dict(tag_views, orient=\"index\")\n",
    "tag_view_count.rename(columns={0: \"ViewCount\"}, inplace=True)\n",
    "\n",
    "most_viewed = tag_view_count.sort_values(by=\"ViewCount\").tail(20)"
   ]
  },
  {
   "cell_type": "code",
   "execution_count": 24,
   "metadata": {
    "collapsed": false
   },
   "outputs": [
    {
     "data": {
      "text/html": [
       "<div>\n",
       "<style scoped>\n",
       "    .dataframe tbody tr th:only-of-type {\n",
       "        vertical-align: middle;\n",
       "    }\n",
       "\n",
       "    .dataframe tbody tr th {\n",
       "        vertical-align: top;\n",
       "    }\n",
       "\n",
       "    .dataframe thead th {\n",
       "        text-align: right;\n",
       "    }\n",
       "</style>\n",
       "<table border=\"1\" class=\"dataframe\">\n",
       "  <thead>\n",
       "    <tr style=\"text-align: right;\">\n",
       "      <th></th>\n",
       "      <th>ViewCount</th>\n",
       "    </tr>\n",
       "  </thead>\n",
       "  <tbody>\n",
       "    <tr>\n",
       "      <th>clustering</th>\n",
       "      <td>33824</td>\n",
       "    </tr>\n",
       "    <tr>\n",
       "      <th>csv</th>\n",
       "      <td>38453</td>\n",
       "    </tr>\n",
       "    <tr>\n",
       "      <th>pytorch</th>\n",
       "      <td>39887</td>\n",
       "    </tr>\n",
       "    <tr>\n",
       "      <th>dataset</th>\n",
       "      <td>43133</td>\n",
       "    </tr>\n",
       "    <tr>\n",
       "      <th>numpy</th>\n",
       "      <td>48556</td>\n",
       "    </tr>\n",
       "    <tr>\n",
       "      <th>regression</th>\n",
       "      <td>49427</td>\n",
       "    </tr>\n",
       "    <tr>\n",
       "      <th>time-series</th>\n",
       "      <td>62484</td>\n",
       "    </tr>\n",
       "    <tr>\n",
       "      <th>cnn</th>\n",
       "      <td>69766</td>\n",
       "    </tr>\n",
       "    <tr>\n",
       "      <th>nlp</th>\n",
       "      <td>71278</td>\n",
       "    </tr>\n",
       "    <tr>\n",
       "      <th>lstm</th>\n",
       "      <td>74407</td>\n",
       "    </tr>\n",
       "    <tr>\n",
       "      <th>dataframe</th>\n",
       "      <td>89281</td>\n",
       "    </tr>\n",
       "    <tr>\n",
       "      <th>classification</th>\n",
       "      <td>104397</td>\n",
       "    </tr>\n",
       "    <tr>\n",
       "      <th>tensorflow</th>\n",
       "      <td>119560</td>\n",
       "    </tr>\n",
       "    <tr>\n",
       "      <th>scikit-learn</th>\n",
       "      <td>128056</td>\n",
       "    </tr>\n",
       "    <tr>\n",
       "      <th>neural-network</th>\n",
       "      <td>185342</td>\n",
       "    </tr>\n",
       "    <tr>\n",
       "      <th>pandas</th>\n",
       "      <td>200576</td>\n",
       "    </tr>\n",
       "    <tr>\n",
       "      <th>deep-learning</th>\n",
       "      <td>233045</td>\n",
       "    </tr>\n",
       "    <tr>\n",
       "      <th>keras</th>\n",
       "      <td>268025</td>\n",
       "    </tr>\n",
       "    <tr>\n",
       "      <th>machine-learning</th>\n",
       "      <td>388479</td>\n",
       "    </tr>\n",
       "    <tr>\n",
       "      <th>python</th>\n",
       "      <td>535935</td>\n",
       "    </tr>\n",
       "  </tbody>\n",
       "</table>\n",
       "</div>"
      ],
      "text/plain": [
       "                  ViewCount\n",
       "clustering            33824\n",
       "csv                   38453\n",
       "pytorch               39887\n",
       "dataset               43133\n",
       "numpy                 48556\n",
       "regression            49427\n",
       "time-series           62484\n",
       "cnn                   69766\n",
       "nlp                   71278\n",
       "lstm                  74407\n",
       "dataframe             89281\n",
       "classification       104397\n",
       "tensorflow           119560\n",
       "scikit-learn         128056\n",
       "neural-network       185342\n",
       "pandas               200576\n",
       "deep-learning        233045\n",
       "keras                268025\n",
       "machine-learning     388479\n",
       "python               535935"
      ]
     },
     "execution_count": 24,
     "metadata": {},
     "output_type": "execute_result"
    }
   ],
   "source": [
    "most_viewed"
   ]
  },
  {
   "cell_type": "code",
   "execution_count": 25,
   "metadata": {
    "collapsed": false
   },
   "outputs": [
    {
     "data": {
      "text/plain": [
       "<matplotlib.axes._subplots.AxesSubplot at 0x7f77e028bbe0>"
      ]
     },
     "execution_count": 25,
     "metadata": {},
     "output_type": "execute_result"
    },
    {
     "data": {
      "image/png": "[encoded data removed]",
      "text/plain": [
       "<matplotlib.figure.Figure at 0x7f77e0208518>"
      ]
     },
     "metadata": {},
     "output_type": "display_data"
    }
   ],
   "source": [
    "most_viewed.plot(kind=\"barh\")"
   ]
  },
  {
   "cell_type": "markdown",
   "metadata": {},
   "source": [
    "We notice that most tags in **most_used** appear in **most_viewed**. Let's see what tags are not in **most_viewed**."
   ]
  },
  {
   "cell_type": "code",
   "execution_count": 26,
   "metadata": {
    "collapsed": true
   },
   "outputs": [],
   "source": [
    "in_used = pd.merge(most_used, most_viewed, how=\"left\", left_index=True, right_index=True)"
   ]
  },
  {
   "cell_type": "code",
   "execution_count": 27,
   "metadata": {
    "collapsed": false
   },
   "outputs": [
    {
     "data": {
      "text/html": [
       "<div>\n",
       "<style scoped>\n",
       "    .dataframe tbody tr th:only-of-type {\n",
       "        vertical-align: middle;\n",
       "    }\n",
       "\n",
       "    .dataframe tbody tr th {\n",
       "        vertical-align: top;\n",
       "    }\n",
       "\n",
       "    .dataframe thead th {\n",
       "        text-align: right;\n",
       "    }\n",
       "</style>\n",
       "<table border=\"1\" class=\"dataframe\">\n",
       "  <thead>\n",
       "    <tr style=\"text-align: right;\">\n",
       "      <th></th>\n",
       "      <th>Count</th>\n",
       "      <th>ViewCount</th>\n",
       "    </tr>\n",
       "  </thead>\n",
       "  <tbody>\n",
       "    <tr>\n",
       "      <th>machine-learning-model</th>\n",
       "      <td>224</td>\n",
       "      <td>NaN</td>\n",
       "    </tr>\n",
       "    <tr>\n",
       "      <th>statistics</th>\n",
       "      <td>234</td>\n",
       "      <td>NaN</td>\n",
       "    </tr>\n",
       "    <tr>\n",
       "      <th>clustering</th>\n",
       "      <td>257</td>\n",
       "      <td>33824.0</td>\n",
       "    </tr>\n",
       "    <tr>\n",
       "      <th>predictive-modeling</th>\n",
       "      <td>265</td>\n",
       "      <td>NaN</td>\n",
       "    </tr>\n",
       "    <tr>\n",
       "      <th>r</th>\n",
       "      <td>268</td>\n",
       "      <td>NaN</td>\n",
       "    </tr>\n",
       "    <tr>\n",
       "      <th>dataset</th>\n",
       "      <td>340</td>\n",
       "      <td>43133.0</td>\n",
       "    </tr>\n",
       "    <tr>\n",
       "      <th>regression</th>\n",
       "      <td>347</td>\n",
       "      <td>49427.0</td>\n",
       "    </tr>\n",
       "    <tr>\n",
       "      <th>pandas</th>\n",
       "      <td>354</td>\n",
       "      <td>200576.0</td>\n",
       "    </tr>\n",
       "    <tr>\n",
       "      <th>lstm</th>\n",
       "      <td>402</td>\n",
       "      <td>74407.0</td>\n",
       "    </tr>\n",
       "    <tr>\n",
       "      <th>time-series</th>\n",
       "      <td>466</td>\n",
       "      <td>62484.0</td>\n",
       "    </tr>\n",
       "    <tr>\n",
       "      <th>cnn</th>\n",
       "      <td>489</td>\n",
       "      <td>69766.0</td>\n",
       "    </tr>\n",
       "    <tr>\n",
       "      <th>nlp</th>\n",
       "      <td>493</td>\n",
       "      <td>71278.0</td>\n",
       "    </tr>\n",
       "    <tr>\n",
       "      <th>scikit-learn</th>\n",
       "      <td>540</td>\n",
       "      <td>128056.0</td>\n",
       "    </tr>\n",
       "    <tr>\n",
       "      <th>tensorflow</th>\n",
       "      <td>584</td>\n",
       "      <td>119560.0</td>\n",
       "    </tr>\n",
       "    <tr>\n",
       "      <th>classification</th>\n",
       "      <td>685</td>\n",
       "      <td>104397.0</td>\n",
       "    </tr>\n",
       "    <tr>\n",
       "      <th>keras</th>\n",
       "      <td>935</td>\n",
       "      <td>268025.0</td>\n",
       "    </tr>\n",
       "    <tr>\n",
       "      <th>neural-network</th>\n",
       "      <td>1055</td>\n",
       "      <td>185342.0</td>\n",
       "    </tr>\n",
       "    <tr>\n",
       "      <th>deep-learning</th>\n",
       "      <td>1220</td>\n",
       "      <td>233045.0</td>\n",
       "    </tr>\n",
       "    <tr>\n",
       "      <th>python</th>\n",
       "      <td>1814</td>\n",
       "      <td>535935.0</td>\n",
       "    </tr>\n",
       "    <tr>\n",
       "      <th>machine-learning</th>\n",
       "      <td>2693</td>\n",
       "      <td>388479.0</td>\n",
       "    </tr>\n",
       "  </tbody>\n",
       "</table>\n",
       "</div>"
      ],
      "text/plain": [
       "                        Count  ViewCount\n",
       "machine-learning-model    224        NaN\n",
       "statistics                234        NaN\n",
       "clustering                257    33824.0\n",
       "predictive-modeling       265        NaN\n",
       "r                         268        NaN\n",
       "dataset                   340    43133.0\n",
       "regression                347    49427.0\n",
       "pandas                    354   200576.0\n",
       "lstm                      402    74407.0\n",
       "time-series               466    62484.0\n",
       "cnn                       489    69766.0\n",
       "nlp                       493    71278.0\n",
       "scikit-learn              540   128056.0\n",
       "tensorflow                584   119560.0\n",
       "classification            685   104397.0\n",
       "keras                     935   268025.0\n",
       "neural-network           1055   185342.0\n",
       "deep-learning            1220   233045.0\n",
       "python                   1814   535935.0\n",
       "machine-learning         2693   388479.0"
      ]
     },
     "execution_count": 27,
     "metadata": {},
     "output_type": "execute_result"
    }
   ],
   "source": [
    "in_used"
   ]
  },
  {
   "cell_type": "markdown",
   "metadata": {},
   "source": [
    "And tags that are not in **most_used**."
   ]
  },
  {
   "cell_type": "code",
   "execution_count": 28,
   "metadata": {
    "collapsed": true
   },
   "outputs": [],
   "source": [
    "in_viewed = pd.merge(most_used, most_viewed, how=\"right\", left_index=True, right_index=True)"
   ]
  },
  {
   "cell_type": "code",
   "execution_count": 29,
   "metadata": {
    "collapsed": false
   },
   "outputs": [
    {
     "data": {
      "text/html": [
       "<div>\n",
       "<style scoped>\n",
       "    .dataframe tbody tr th:only-of-type {\n",
       "        vertical-align: middle;\n",
       "    }\n",
       "\n",
       "    .dataframe tbody tr th {\n",
       "        vertical-align: top;\n",
       "    }\n",
       "\n",
       "    .dataframe thead th {\n",
       "        text-align: right;\n",
       "    }\n",
       "</style>\n",
       "<table border=\"1\" class=\"dataframe\">\n",
       "  <thead>\n",
       "    <tr style=\"text-align: right;\">\n",
       "      <th></th>\n",
       "      <th>Count</th>\n",
       "      <th>ViewCount</th>\n",
       "    </tr>\n",
       "  </thead>\n",
       "  <tbody>\n",
       "    <tr>\n",
       "      <th>clustering</th>\n",
       "      <td>257.0</td>\n",
       "      <td>33824</td>\n",
       "    </tr>\n",
       "    <tr>\n",
       "      <th>csv</th>\n",
       "      <td>NaN</td>\n",
       "      <td>38453</td>\n",
       "    </tr>\n",
       "    <tr>\n",
       "      <th>pytorch</th>\n",
       "      <td>NaN</td>\n",
       "      <td>39887</td>\n",
       "    </tr>\n",
       "    <tr>\n",
       "      <th>dataset</th>\n",
       "      <td>340.0</td>\n",
       "      <td>43133</td>\n",
       "    </tr>\n",
       "    <tr>\n",
       "      <th>numpy</th>\n",
       "      <td>NaN</td>\n",
       "      <td>48556</td>\n",
       "    </tr>\n",
       "    <tr>\n",
       "      <th>regression</th>\n",
       "      <td>347.0</td>\n",
       "      <td>49427</td>\n",
       "    </tr>\n",
       "    <tr>\n",
       "      <th>time-series</th>\n",
       "      <td>466.0</td>\n",
       "      <td>62484</td>\n",
       "    </tr>\n",
       "    <tr>\n",
       "      <th>cnn</th>\n",
       "      <td>489.0</td>\n",
       "      <td>69766</td>\n",
       "    </tr>\n",
       "    <tr>\n",
       "      <th>nlp</th>\n",
       "      <td>493.0</td>\n",
       "      <td>71278</td>\n",
       "    </tr>\n",
       "    <tr>\n",
       "      <th>lstm</th>\n",
       "      <td>402.0</td>\n",
       "      <td>74407</td>\n",
       "    </tr>\n",
       "    <tr>\n",
       "      <th>dataframe</th>\n",
       "      <td>NaN</td>\n",
       "      <td>89281</td>\n",
       "    </tr>\n",
       "    <tr>\n",
       "      <th>classification</th>\n",
       "      <td>685.0</td>\n",
       "      <td>104397</td>\n",
       "    </tr>\n",
       "    <tr>\n",
       "      <th>tensorflow</th>\n",
       "      <td>584.0</td>\n",
       "      <td>119560</td>\n",
       "    </tr>\n",
       "    <tr>\n",
       "      <th>scikit-learn</th>\n",
       "      <td>540.0</td>\n",
       "      <td>128056</td>\n",
       "    </tr>\n",
       "    <tr>\n",
       "      <th>neural-network</th>\n",
       "      <td>1055.0</td>\n",
       "      <td>185342</td>\n",
       "    </tr>\n",
       "    <tr>\n",
       "      <th>pandas</th>\n",
       "      <td>354.0</td>\n",
       "      <td>200576</td>\n",
       "    </tr>\n",
       "    <tr>\n",
       "      <th>deep-learning</th>\n",
       "      <td>1220.0</td>\n",
       "      <td>233045</td>\n",
       "    </tr>\n",
       "    <tr>\n",
       "      <th>keras</th>\n",
       "      <td>935.0</td>\n",
       "      <td>268025</td>\n",
       "    </tr>\n",
       "    <tr>\n",
       "      <th>machine-learning</th>\n",
       "      <td>2693.0</td>\n",
       "      <td>388479</td>\n",
       "    </tr>\n",
       "    <tr>\n",
       "      <th>python</th>\n",
       "      <td>1814.0</td>\n",
       "      <td>535935</td>\n",
       "    </tr>\n",
       "  </tbody>\n",
       "</table>\n",
       "</div>"
      ],
      "text/plain": [
       "                   Count  ViewCount\n",
       "clustering         257.0      33824\n",
       "csv                  NaN      38453\n",
       "pytorch              NaN      39887\n",
       "dataset            340.0      43133\n",
       "numpy                NaN      48556\n",
       "regression         347.0      49427\n",
       "time-series        466.0      62484\n",
       "cnn                489.0      69766\n",
       "nlp                493.0      71278\n",
       "lstm               402.0      74407\n",
       "dataframe            NaN      89281\n",
       "classification     685.0     104397\n",
       "tensorflow         584.0     119560\n",
       "scikit-learn       540.0     128056\n",
       "neural-network    1055.0     185342\n",
       "pandas             354.0     200576\n",
       "deep-learning     1220.0     233045\n",
       "keras              935.0     268025\n",
       "machine-learning  2693.0     388479\n",
       "python            1814.0     535935"
      ]
     },
     "execution_count": 29,
     "metadata": {},
     "output_type": "execute_result"
    }
   ],
   "source": [
    "in_viewed"
   ]
  },
  {
   "cell_type": "markdown",
   "metadata": {},
   "source": [
    "## Relationships between tags"
   ]
  },
  {
   "cell_type": "markdown",
   "metadata": {},
   "source": [
    "### From the [solution](https://github.com/dataquestio/solutions/blob/master/Mission469Solutions.ipynb)"
   ]
  },
  {
   "cell_type": "markdown",
   "metadata": {},
   "source": [
    "One way of trying to gauge how pairs of tags are related to each other, is to count how many times each pair appears together."
   ]
  },
  {
   "cell_type": "code",
   "execution_count": 30,
   "metadata": {
    "collapsed": true
   },
   "outputs": [],
   "source": [
    "all_tags = list(tag_count.index)"
   ]
  },
  {
   "cell_type": "code",
   "execution_count": 31,
   "metadata": {
    "collapsed": true
   },
   "outputs": [],
   "source": [
    "associations = pd.DataFrame(index=all_tags, columns=all_tags)"
   ]
  },
  {
   "cell_type": "code",
   "execution_count": 33,
   "metadata": {
    "collapsed": false
   },
   "outputs": [],
   "source": [
    "associations.fillna(0, inplace=True)\n",
    "\n",
    "for tags in data[\"Tags\"]:\n",
    "    associations.loc[tags, tags] += 1"
   ]
  },
  {
   "cell_type": "code",
   "execution_count": 34,
   "metadata": {
    "collapsed": false
   },
   "outputs": [
    {
     "data": {
      "text/html": [
       "<style  type=\"text/css\" >\n",
       "    #T_5d9f83b4_7366_11ea_9d93_0242ac11004crow0_col0 {\n",
       "            color:  blue;\n",
       "        }    #T_5d9f83b4_7366_11ea_9d93_0242ac11004crow1_col1 {\n",
       "            color:  blue;\n",
       "        }    #T_5d9f83b4_7366_11ea_9d93_0242ac11004crow2_col2 {\n",
       "            color:  blue;\n",
       "        }    #T_5d9f83b4_7366_11ea_9d93_0242ac11004crow3_col3 {\n",
       "            color:  blue;\n",
       "        }    #T_5d9f83b4_7366_11ea_9d93_0242ac11004crow4_col4 {\n",
       "            color:  blue;\n",
       "        }    #T_5d9f83b4_7366_11ea_9d93_0242ac11004crow4_col9 {\n",
       "            background-color:  yellow;\n",
       "        }    #T_5d9f83b4_7366_11ea_9d93_0242ac11004crow5_col5 {\n",
       "            color:  blue;\n",
       "        }    #T_5d9f83b4_7366_11ea_9d93_0242ac11004crow6_col6 {\n",
       "            color:  blue;\n",
       "        }    #T_5d9f83b4_7366_11ea_9d93_0242ac11004crow7_col7 {\n",
       "            color:  blue;\n",
       "        }    #T_5d9f83b4_7366_11ea_9d93_0242ac11004crow8_col8 {\n",
       "            color:  blue;\n",
       "        }    #T_5d9f83b4_7366_11ea_9d93_0242ac11004crow9_col4 {\n",
       "            background-color:  yellow;\n",
       "        }    #T_5d9f83b4_7366_11ea_9d93_0242ac11004crow9_col9 {\n",
       "            color:  blue;\n",
       "        }    #T_5d9f83b4_7366_11ea_9d93_0242ac11004crow10_col10 {\n",
       "            color:  blue;\n",
       "        }    #T_5d9f83b4_7366_11ea_9d93_0242ac11004crow11_col11 {\n",
       "            color:  blue;\n",
       "        }    #T_5d9f83b4_7366_11ea_9d93_0242ac11004crow12_col12 {\n",
       "            color:  blue;\n",
       "        }    #T_5d9f83b4_7366_11ea_9d93_0242ac11004crow13_col13 {\n",
       "            color:  blue;\n",
       "        }    #T_5d9f83b4_7366_11ea_9d93_0242ac11004crow14_col14 {\n",
       "            color:  blue;\n",
       "        }    #T_5d9f83b4_7366_11ea_9d93_0242ac11004crow15_col15 {\n",
       "            color:  blue;\n",
       "        }    #T_5d9f83b4_7366_11ea_9d93_0242ac11004crow16_col16 {\n",
       "            color:  blue;\n",
       "        }    #T_5d9f83b4_7366_11ea_9d93_0242ac11004crow17_col17 {\n",
       "            color:  blue;\n",
       "        }    #T_5d9f83b4_7366_11ea_9d93_0242ac11004crow18_col18 {\n",
       "            color:  blue;\n",
       "        }    #T_5d9f83b4_7366_11ea_9d93_0242ac11004crow19_col19 {\n",
       "            color:  blue;\n",
       "        }</style>  \n",
       "<table id=\"T_5d9f83b4_7366_11ea_9d93_0242ac11004c\" > \n",
       "<thead>    <tr> \n",
       "        <th class=\"blank level0\" ></th> \n",
       "        <th class=\"col_heading level0 col0\" >machine-learning-model</th> \n",
       "        <th class=\"col_heading level0 col1\" >statistics</th> \n",
       "        <th class=\"col_heading level0 col2\" >clustering</th> \n",
       "        <th class=\"col_heading level0 col3\" >predictive-modeling</th> \n",
       "        <th class=\"col_heading level0 col4\" >r</th> \n",
       "        <th class=\"col_heading level0 col5\" >dataset</th> \n",
       "        <th class=\"col_heading level0 col6\" >regression</th> \n",
       "        <th class=\"col_heading level0 col7\" >pandas</th> \n",
       "        <th class=\"col_heading level0 col8\" >lstm</th> \n",
       "        <th class=\"col_heading level0 col9\" >time-series</th> \n",
       "        <th class=\"col_heading level0 col10\" >cnn</th> \n",
       "        <th class=\"col_heading level0 col11\" >nlp</th> \n",
       "        <th class=\"col_heading level0 col12\" >scikit-learn</th> \n",
       "        <th class=\"col_heading level0 col13\" >tensorflow</th> \n",
       "        <th class=\"col_heading level0 col14\" >classification</th> \n",
       "        <th class=\"col_heading level0 col15\" >keras</th> \n",
       "        <th class=\"col_heading level0 col16\" >neural-network</th> \n",
       "        <th class=\"col_heading level0 col17\" >deep-learning</th> \n",
       "        <th class=\"col_heading level0 col18\" >python</th> \n",
       "        <th class=\"col_heading level0 col19\" >machine-learning</th> \n",
       "    </tr></thead> \n",
       "<tbody>    <tr> \n",
       "        <th id=\"T_5d9f83b4_7366_11ea_9d93_0242ac11004clevel0_row0\" class=\"row_heading level0 row0\" >machine-learning-model</th> \n",
       "        <td id=\"T_5d9f83b4_7366_11ea_9d93_0242ac11004crow0_col0\" class=\"data row0 col0\" >224</td> \n",
       "        <td id=\"T_5d9f83b4_7366_11ea_9d93_0242ac11004crow0_col1\" class=\"data row0 col1\" >3</td> \n",
       "        <td id=\"T_5d9f83b4_7366_11ea_9d93_0242ac11004crow0_col2\" class=\"data row0 col2\" >3</td> \n",
       "        <td id=\"T_5d9f83b4_7366_11ea_9d93_0242ac11004crow0_col3\" class=\"data row0 col3\" >21</td> \n",
       "        <td id=\"T_5d9f83b4_7366_11ea_9d93_0242ac11004crow0_col4\" class=\"data row0 col4\" >7</td> \n",
       "        <td id=\"T_5d9f83b4_7366_11ea_9d93_0242ac11004crow0_col5\" class=\"data row0 col5\" >12</td> \n",
       "        <td id=\"T_5d9f83b4_7366_11ea_9d93_0242ac11004crow0_col6\" class=\"data row0 col6\" >8</td> \n",
       "        <td id=\"T_5d9f83b4_7366_11ea_9d93_0242ac11004crow0_col7\" class=\"data row0 col7\" >4</td> \n",
       "        <td id=\"T_5d9f83b4_7366_11ea_9d93_0242ac11004crow0_col8\" class=\"data row0 col8\" >5</td> \n",
       "        <td id=\"T_5d9f83b4_7366_11ea_9d93_0242ac11004crow0_col9\" class=\"data row0 col9\" >7</td> \n",
       "        <td id=\"T_5d9f83b4_7366_11ea_9d93_0242ac11004crow0_col10\" class=\"data row0 col10\" >4</td> \n",
       "        <td id=\"T_5d9f83b4_7366_11ea_9d93_0242ac11004crow0_col11\" class=\"data row0 col11\" >4</td> \n",
       "        <td id=\"T_5d9f83b4_7366_11ea_9d93_0242ac11004crow0_col12\" class=\"data row0 col12\" >18</td> \n",
       "        <td id=\"T_5d9f83b4_7366_11ea_9d93_0242ac11004crow0_col13\" class=\"data row0 col13\" >9</td> \n",
       "        <td id=\"T_5d9f83b4_7366_11ea_9d93_0242ac11004crow0_col14\" class=\"data row0 col14\" >21</td> \n",
       "        <td id=\"T_5d9f83b4_7366_11ea_9d93_0242ac11004crow0_col15\" class=\"data row0 col15\" >17</td> \n",
       "        <td id=\"T_5d9f83b4_7366_11ea_9d93_0242ac11004crow0_col16\" class=\"data row0 col16\" >10</td> \n",
       "        <td id=\"T_5d9f83b4_7366_11ea_9d93_0242ac11004crow0_col17\" class=\"data row0 col17\" >19</td> \n",
       "        <td id=\"T_5d9f83b4_7366_11ea_9d93_0242ac11004crow0_col18\" class=\"data row0 col18\" >37</td> \n",
       "        <td id=\"T_5d9f83b4_7366_11ea_9d93_0242ac11004crow0_col19\" class=\"data row0 col19\" >139</td> \n",
       "    </tr>    <tr> \n",
       "        <th id=\"T_5d9f83b4_7366_11ea_9d93_0242ac11004clevel0_row1\" class=\"row_heading level0 row1\" >statistics</th> \n",
       "        <td id=\"T_5d9f83b4_7366_11ea_9d93_0242ac11004crow1_col0\" class=\"data row1 col0\" >3</td> \n",
       "        <td id=\"T_5d9f83b4_7366_11ea_9d93_0242ac11004crow1_col1\" class=\"data row1 col1\" >234</td> \n",
       "        <td id=\"T_5d9f83b4_7366_11ea_9d93_0242ac11004crow1_col2\" class=\"data row1 col2\" >3</td> \n",
       "        <td id=\"T_5d9f83b4_7366_11ea_9d93_0242ac11004crow1_col3\" class=\"data row1 col3\" >16</td> \n",
       "        <td id=\"T_5d9f83b4_7366_11ea_9d93_0242ac11004crow1_col4\" class=\"data row1 col4\" >16</td> \n",
       "        <td id=\"T_5d9f83b4_7366_11ea_9d93_0242ac11004crow1_col5\" class=\"data row1 col5\" >17</td> \n",
       "        <td id=\"T_5d9f83b4_7366_11ea_9d93_0242ac11004crow1_col6\" class=\"data row1 col6\" >16</td> \n",
       "        <td id=\"T_5d9f83b4_7366_11ea_9d93_0242ac11004crow1_col7\" class=\"data row1 col7\" >3</td> \n",
       "        <td id=\"T_5d9f83b4_7366_11ea_9d93_0242ac11004crow1_col8\" class=\"data row1 col8\" >1</td> \n",
       "        <td id=\"T_5d9f83b4_7366_11ea_9d93_0242ac11004crow1_col9\" class=\"data row1 col9\" >22</td> \n",
       "        <td id=\"T_5d9f83b4_7366_11ea_9d93_0242ac11004crow1_col10\" class=\"data row1 col10\" >1</td> \n",
       "        <td id=\"T_5d9f83b4_7366_11ea_9d93_0242ac11004crow1_col11\" class=\"data row1 col11\" >3</td> \n",
       "        <td id=\"T_5d9f83b4_7366_11ea_9d93_0242ac11004crow1_col12\" class=\"data row1 col12\" >6</td> \n",
       "        <td id=\"T_5d9f83b4_7366_11ea_9d93_0242ac11004crow1_col13\" class=\"data row1 col13\" >0</td> \n",
       "        <td id=\"T_5d9f83b4_7366_11ea_9d93_0242ac11004crow1_col14\" class=\"data row1 col14\" >19</td> \n",
       "        <td id=\"T_5d9f83b4_7366_11ea_9d93_0242ac11004crow1_col15\" class=\"data row1 col15\" >3</td> \n",
       "        <td id=\"T_5d9f83b4_7366_11ea_9d93_0242ac11004crow1_col16\" class=\"data row1 col16\" >11</td> \n",
       "        <td id=\"T_5d9f83b4_7366_11ea_9d93_0242ac11004crow1_col17\" class=\"data row1 col17\" >12</td> \n",
       "        <td id=\"T_5d9f83b4_7366_11ea_9d93_0242ac11004crow1_col18\" class=\"data row1 col18\" >35</td> \n",
       "        <td id=\"T_5d9f83b4_7366_11ea_9d93_0242ac11004crow1_col19\" class=\"data row1 col19\" >89</td> \n",
       "    </tr>    <tr> \n",
       "        <th id=\"T_5d9f83b4_7366_11ea_9d93_0242ac11004clevel0_row2\" class=\"row_heading level0 row2\" >clustering</th> \n",
       "        <td id=\"T_5d9f83b4_7366_11ea_9d93_0242ac11004crow2_col0\" class=\"data row2 col0\" >3</td> \n",
       "        <td id=\"T_5d9f83b4_7366_11ea_9d93_0242ac11004crow2_col1\" class=\"data row2 col1\" >3</td> \n",
       "        <td id=\"T_5d9f83b4_7366_11ea_9d93_0242ac11004crow2_col2\" class=\"data row2 col2\" >257</td> \n",
       "        <td id=\"T_5d9f83b4_7366_11ea_9d93_0242ac11004crow2_col3\" class=\"data row2 col3\" >0</td> \n",
       "        <td id=\"T_5d9f83b4_7366_11ea_9d93_0242ac11004crow2_col4\" class=\"data row2 col4\" >16</td> \n",
       "        <td id=\"T_5d9f83b4_7366_11ea_9d93_0242ac11004crow2_col5\" class=\"data row2 col5\" >5</td> \n",
       "        <td id=\"T_5d9f83b4_7366_11ea_9d93_0242ac11004crow2_col6\" class=\"data row2 col6\" >2</td> \n",
       "        <td id=\"T_5d9f83b4_7366_11ea_9d93_0242ac11004crow2_col7\" class=\"data row2 col7\" >5</td> \n",
       "        <td id=\"T_5d9f83b4_7366_11ea_9d93_0242ac11004crow2_col8\" class=\"data row2 col8\" >3</td> \n",
       "        <td id=\"T_5d9f83b4_7366_11ea_9d93_0242ac11004crow2_col9\" class=\"data row2 col9\" >20</td> \n",
       "        <td id=\"T_5d9f83b4_7366_11ea_9d93_0242ac11004crow2_col10\" class=\"data row2 col10\" >0</td> \n",
       "        <td id=\"T_5d9f83b4_7366_11ea_9d93_0242ac11004crow2_col11\" class=\"data row2 col11\" >9</td> \n",
       "        <td id=\"T_5d9f83b4_7366_11ea_9d93_0242ac11004crow2_col12\" class=\"data row2 col12\" >24</td> \n",
       "        <td id=\"T_5d9f83b4_7366_11ea_9d93_0242ac11004crow2_col13\" class=\"data row2 col13\" >0</td> \n",
       "        <td id=\"T_5d9f83b4_7366_11ea_9d93_0242ac11004crow2_col14\" class=\"data row2 col14\" >12</td> \n",
       "        <td id=\"T_5d9f83b4_7366_11ea_9d93_0242ac11004crow2_col15\" class=\"data row2 col15\" >0</td> \n",
       "        <td id=\"T_5d9f83b4_7366_11ea_9d93_0242ac11004crow2_col16\" class=\"data row2 col16\" >8</td> \n",
       "        <td id=\"T_5d9f83b4_7366_11ea_9d93_0242ac11004crow2_col17\" class=\"data row2 col17\" >2</td> \n",
       "        <td id=\"T_5d9f83b4_7366_11ea_9d93_0242ac11004crow2_col18\" class=\"data row2 col18\" >45</td> \n",
       "        <td id=\"T_5d9f83b4_7366_11ea_9d93_0242ac11004crow2_col19\" class=\"data row2 col19\" >61</td> \n",
       "    </tr>    <tr> \n",
       "        <th id=\"T_5d9f83b4_7366_11ea_9d93_0242ac11004clevel0_row3\" class=\"row_heading level0 row3\" >predictive-modeling</th> \n",
       "        <td id=\"T_5d9f83b4_7366_11ea_9d93_0242ac11004crow3_col0\" class=\"data row3 col0\" >21</td> \n",
       "        <td id=\"T_5d9f83b4_7366_11ea_9d93_0242ac11004crow3_col1\" class=\"data row3 col1\" >16</td> \n",
       "        <td id=\"T_5d9f83b4_7366_11ea_9d93_0242ac11004crow3_col2\" class=\"data row3 col2\" >0</td> \n",
       "        <td id=\"T_5d9f83b4_7366_11ea_9d93_0242ac11004crow3_col3\" class=\"data row3 col3\" >265</td> \n",
       "        <td id=\"T_5d9f83b4_7366_11ea_9d93_0242ac11004crow3_col4\" class=\"data row3 col4\" >13</td> \n",
       "        <td id=\"T_5d9f83b4_7366_11ea_9d93_0242ac11004crow3_col5\" class=\"data row3 col5\" >7</td> \n",
       "        <td id=\"T_5d9f83b4_7366_11ea_9d93_0242ac11004crow3_col6\" class=\"data row3 col6\" >28</td> \n",
       "        <td id=\"T_5d9f83b4_7366_11ea_9d93_0242ac11004crow3_col7\" class=\"data row3 col7\" >4</td> \n",
       "        <td id=\"T_5d9f83b4_7366_11ea_9d93_0242ac11004crow3_col8\" class=\"data row3 col8\" >13</td> \n",
       "        <td id=\"T_5d9f83b4_7366_11ea_9d93_0242ac11004crow3_col9\" class=\"data row3 col9\" >31</td> \n",
       "        <td id=\"T_5d9f83b4_7366_11ea_9d93_0242ac11004crow3_col10\" class=\"data row3 col10\" >6</td> \n",
       "        <td id=\"T_5d9f83b4_7366_11ea_9d93_0242ac11004crow3_col11\" class=\"data row3 col11\" >1</td> \n",
       "        <td id=\"T_5d9f83b4_7366_11ea_9d93_0242ac11004crow3_col12\" class=\"data row3 col12\" >12</td> \n",
       "        <td id=\"T_5d9f83b4_7366_11ea_9d93_0242ac11004crow3_col13\" class=\"data row3 col13\" >6</td> \n",
       "        <td id=\"T_5d9f83b4_7366_11ea_9d93_0242ac11004crow3_col14\" class=\"data row3 col14\" >27</td> \n",
       "        <td id=\"T_5d9f83b4_7366_11ea_9d93_0242ac11004crow3_col15\" class=\"data row3 col15\" >11</td> \n",
       "        <td id=\"T_5d9f83b4_7366_11ea_9d93_0242ac11004crow3_col16\" class=\"data row3 col16\" >13</td> \n",
       "        <td id=\"T_5d9f83b4_7366_11ea_9d93_0242ac11004crow3_col17\" class=\"data row3 col17\" >32</td> \n",
       "        <td id=\"T_5d9f83b4_7366_11ea_9d93_0242ac11004crow3_col18\" class=\"data row3 col18\" >35</td> \n",
       "        <td id=\"T_5d9f83b4_7366_11ea_9d93_0242ac11004crow3_col19\" class=\"data row3 col19\" >123</td> \n",
       "    </tr>    <tr> \n",
       "        <th id=\"T_5d9f83b4_7366_11ea_9d93_0242ac11004clevel0_row4\" class=\"row_heading level0 row4\" >r</th> \n",
       "        <td id=\"T_5d9f83b4_7366_11ea_9d93_0242ac11004crow4_col0\" class=\"data row4 col0\" >7</td> \n",
       "        <td id=\"T_5d9f83b4_7366_11ea_9d93_0242ac11004crow4_col1\" class=\"data row4 col1\" >16</td> \n",
       "        <td id=\"T_5d9f83b4_7366_11ea_9d93_0242ac11004crow4_col2\" class=\"data row4 col2\" >16</td> \n",
       "        <td id=\"T_5d9f83b4_7366_11ea_9d93_0242ac11004crow4_col3\" class=\"data row4 col3\" >13</td> \n",
       "        <td id=\"T_5d9f83b4_7366_11ea_9d93_0242ac11004crow4_col4\" class=\"data row4 col4\" >268</td> \n",
       "        <td id=\"T_5d9f83b4_7366_11ea_9d93_0242ac11004crow4_col5\" class=\"data row4 col5\" >6</td> \n",
       "        <td id=\"T_5d9f83b4_7366_11ea_9d93_0242ac11004crow4_col6\" class=\"data row4 col6\" >10</td> \n",
       "        <td id=\"T_5d9f83b4_7366_11ea_9d93_0242ac11004crow4_col7\" class=\"data row4 col7\" >2</td> \n",
       "        <td id=\"T_5d9f83b4_7366_11ea_9d93_0242ac11004crow4_col8\" class=\"data row4 col8\" >3</td> \n",
       "        <td id=\"T_5d9f83b4_7366_11ea_9d93_0242ac11004crow4_col9\" class=\"data row4 col9\" >22</td> \n",
       "        <td id=\"T_5d9f83b4_7366_11ea_9d93_0242ac11004crow4_col10\" class=\"data row4 col10\" >2</td> \n",
       "        <td id=\"T_5d9f83b4_7366_11ea_9d93_0242ac11004crow4_col11\" class=\"data row4 col11\" >4</td> \n",
       "        <td id=\"T_5d9f83b4_7366_11ea_9d93_0242ac11004crow4_col12\" class=\"data row4 col12\" >1</td> \n",
       "        <td id=\"T_5d9f83b4_7366_11ea_9d93_0242ac11004crow4_col13\" class=\"data row4 col13\" >1</td> \n",
       "        <td id=\"T_5d9f83b4_7366_11ea_9d93_0242ac11004crow4_col14\" class=\"data row4 col14\" >10</td> \n",
       "        <td id=\"T_5d9f83b4_7366_11ea_9d93_0242ac11004crow4_col15\" class=\"data row4 col15\" >10</td> \n",
       "        <td id=\"T_5d9f83b4_7366_11ea_9d93_0242ac11004crow4_col16\" class=\"data row4 col16\" >9</td> \n",
       "        <td id=\"T_5d9f83b4_7366_11ea_9d93_0242ac11004crow4_col17\" class=\"data row4 col17\" >5</td> \n",
       "        <td id=\"T_5d9f83b4_7366_11ea_9d93_0242ac11004crow4_col18\" class=\"data row4 col18\" >24</td> \n",
       "        <td id=\"T_5d9f83b4_7366_11ea_9d93_0242ac11004crow4_col19\" class=\"data row4 col19\" >63</td> \n",
       "    </tr>    <tr> \n",
       "        <th id=\"T_5d9f83b4_7366_11ea_9d93_0242ac11004clevel0_row5\" class=\"row_heading level0 row5\" >dataset</th> \n",
       "        <td id=\"T_5d9f83b4_7366_11ea_9d93_0242ac11004crow5_col0\" class=\"data row5 col0\" >12</td> \n",
       "        <td id=\"T_5d9f83b4_7366_11ea_9d93_0242ac11004crow5_col1\" class=\"data row5 col1\" >17</td> \n",
       "        <td id=\"T_5d9f83b4_7366_11ea_9d93_0242ac11004crow5_col2\" class=\"data row5 col2\" >5</td> \n",
       "        <td id=\"T_5d9f83b4_7366_11ea_9d93_0242ac11004crow5_col3\" class=\"data row5 col3\" >7</td> \n",
       "        <td id=\"T_5d9f83b4_7366_11ea_9d93_0242ac11004crow5_col4\" class=\"data row5 col4\" >6</td> \n",
       "        <td id=\"T_5d9f83b4_7366_11ea_9d93_0242ac11004crow5_col5\" class=\"data row5 col5\" >340</td> \n",
       "        <td id=\"T_5d9f83b4_7366_11ea_9d93_0242ac11004crow5_col6\" class=\"data row5 col6\" >6</td> \n",
       "        <td id=\"T_5d9f83b4_7366_11ea_9d93_0242ac11004crow5_col7\" class=\"data row5 col7\" >14</td> \n",
       "        <td id=\"T_5d9f83b4_7366_11ea_9d93_0242ac11004crow5_col8\" class=\"data row5 col8\" >7</td> \n",
       "        <td id=\"T_5d9f83b4_7366_11ea_9d93_0242ac11004crow5_col9\" class=\"data row5 col9\" >6</td> \n",
       "        <td id=\"T_5d9f83b4_7366_11ea_9d93_0242ac11004crow5_col10\" class=\"data row5 col10\" >11</td> \n",
       "        <td id=\"T_5d9f83b4_7366_11ea_9d93_0242ac11004crow5_col11\" class=\"data row5 col11\" >11</td> \n",
       "        <td id=\"T_5d9f83b4_7366_11ea_9d93_0242ac11004crow5_col12\" class=\"data row5 col12\" >9</td> \n",
       "        <td id=\"T_5d9f83b4_7366_11ea_9d93_0242ac11004crow5_col13\" class=\"data row5 col13\" >9</td> \n",
       "        <td id=\"T_5d9f83b4_7366_11ea_9d93_0242ac11004crow5_col14\" class=\"data row5 col14\" >28</td> \n",
       "        <td id=\"T_5d9f83b4_7366_11ea_9d93_0242ac11004crow5_col15\" class=\"data row5 col15\" >13</td> \n",
       "        <td id=\"T_5d9f83b4_7366_11ea_9d93_0242ac11004crow5_col16\" class=\"data row5 col16\" >20</td> \n",
       "        <td id=\"T_5d9f83b4_7366_11ea_9d93_0242ac11004crow5_col17\" class=\"data row5 col17\" >32</td> \n",
       "        <td id=\"T_5d9f83b4_7366_11ea_9d93_0242ac11004crow5_col18\" class=\"data row5 col18\" >53</td> \n",
       "        <td id=\"T_5d9f83b4_7366_11ea_9d93_0242ac11004crow5_col19\" class=\"data row5 col19\" >99</td> \n",
       "    </tr>    <tr> \n",
       "        <th id=\"T_5d9f83b4_7366_11ea_9d93_0242ac11004clevel0_row6\" class=\"row_heading level0 row6\" >regression</th> \n",
       "        <td id=\"T_5d9f83b4_7366_11ea_9d93_0242ac11004crow6_col0\" class=\"data row6 col0\" >8</td> \n",
       "        <td id=\"T_5d9f83b4_7366_11ea_9d93_0242ac11004crow6_col1\" class=\"data row6 col1\" >16</td> \n",
       "        <td id=\"T_5d9f83b4_7366_11ea_9d93_0242ac11004crow6_col2\" class=\"data row6 col2\" >2</td> \n",
       "        <td id=\"T_5d9f83b4_7366_11ea_9d93_0242ac11004crow6_col3\" class=\"data row6 col3\" >28</td> \n",
       "        <td id=\"T_5d9f83b4_7366_11ea_9d93_0242ac11004crow6_col4\" class=\"data row6 col4\" >10</td> \n",
       "        <td id=\"T_5d9f83b4_7366_11ea_9d93_0242ac11004crow6_col5\" class=\"data row6 col5\" >6</td> \n",
       "        <td id=\"T_5d9f83b4_7366_11ea_9d93_0242ac11004crow6_col6\" class=\"data row6 col6\" >347</td> \n",
       "        <td id=\"T_5d9f83b4_7366_11ea_9d93_0242ac11004crow6_col7\" class=\"data row6 col7\" >6</td> \n",
       "        <td id=\"T_5d9f83b4_7366_11ea_9d93_0242ac11004crow6_col8\" class=\"data row6 col8\" >11</td> \n",
       "        <td id=\"T_5d9f83b4_7366_11ea_9d93_0242ac11004crow6_col9\" class=\"data row6 col9\" >24</td> \n",
       "        <td id=\"T_5d9f83b4_7366_11ea_9d93_0242ac11004crow6_col10\" class=\"data row6 col10\" >6</td> \n",
       "        <td id=\"T_5d9f83b4_7366_11ea_9d93_0242ac11004crow6_col11\" class=\"data row6 col11\" >2</td> \n",
       "        <td id=\"T_5d9f83b4_7366_11ea_9d93_0242ac11004crow6_col12\" class=\"data row6 col12\" >37</td> \n",
       "        <td id=\"T_5d9f83b4_7366_11ea_9d93_0242ac11004crow6_col13\" class=\"data row6 col13\" >9</td> \n",
       "        <td id=\"T_5d9f83b4_7366_11ea_9d93_0242ac11004crow6_col14\" class=\"data row6 col14\" >34</td> \n",
       "        <td id=\"T_5d9f83b4_7366_11ea_9d93_0242ac11004crow6_col15\" class=\"data row6 col15\" >31</td> \n",
       "        <td id=\"T_5d9f83b4_7366_11ea_9d93_0242ac11004crow6_col16\" class=\"data row6 col16\" >42</td> \n",
       "        <td id=\"T_5d9f83b4_7366_11ea_9d93_0242ac11004crow6_col17\" class=\"data row6 col17\" >21</td> \n",
       "        <td id=\"T_5d9f83b4_7366_11ea_9d93_0242ac11004crow6_col18\" class=\"data row6 col18\" >59</td> \n",
       "        <td id=\"T_5d9f83b4_7366_11ea_9d93_0242ac11004crow6_col19\" class=\"data row6 col19\" >119</td> \n",
       "    </tr>    <tr> \n",
       "        <th id=\"T_5d9f83b4_7366_11ea_9d93_0242ac11004clevel0_row7\" class=\"row_heading level0 row7\" >pandas</th> \n",
       "        <td id=\"T_5d9f83b4_7366_11ea_9d93_0242ac11004crow7_col0\" class=\"data row7 col0\" >4</td> \n",
       "        <td id=\"T_5d9f83b4_7366_11ea_9d93_0242ac11004crow7_col1\" class=\"data row7 col1\" >3</td> \n",
       "        <td id=\"T_5d9f83b4_7366_11ea_9d93_0242ac11004crow7_col2\" class=\"data row7 col2\" >5</td> \n",
       "        <td id=\"T_5d9f83b4_7366_11ea_9d93_0242ac11004crow7_col3\" class=\"data row7 col3\" >4</td> \n",
       "        <td id=\"T_5d9f83b4_7366_11ea_9d93_0242ac11004crow7_col4\" class=\"data row7 col4\" >2</td> \n",
       "        <td id=\"T_5d9f83b4_7366_11ea_9d93_0242ac11004crow7_col5\" class=\"data row7 col5\" >14</td> \n",
       "        <td id=\"T_5d9f83b4_7366_11ea_9d93_0242ac11004crow7_col6\" class=\"data row7 col6\" >6</td> \n",
       "        <td id=\"T_5d9f83b4_7366_11ea_9d93_0242ac11004crow7_col7\" class=\"data row7 col7\" >354</td> \n",
       "        <td id=\"T_5d9f83b4_7366_11ea_9d93_0242ac11004crow7_col8\" class=\"data row7 col8\" >7</td> \n",
       "        <td id=\"T_5d9f83b4_7366_11ea_9d93_0242ac11004crow7_col9\" class=\"data row7 col9\" >19</td> \n",
       "        <td id=\"T_5d9f83b4_7366_11ea_9d93_0242ac11004crow7_col10\" class=\"data row7 col10\" >1</td> \n",
       "        <td id=\"T_5d9f83b4_7366_11ea_9d93_0242ac11004crow7_col11\" class=\"data row7 col11\" >3</td> \n",
       "        <td id=\"T_5d9f83b4_7366_11ea_9d93_0242ac11004crow7_col12\" class=\"data row7 col12\" >37</td> \n",
       "        <td id=\"T_5d9f83b4_7366_11ea_9d93_0242ac11004crow7_col13\" class=\"data row7 col13\" >3</td> \n",
       "        <td id=\"T_5d9f83b4_7366_11ea_9d93_0242ac11004crow7_col14\" class=\"data row7 col14\" >3</td> \n",
       "        <td id=\"T_5d9f83b4_7366_11ea_9d93_0242ac11004crow7_col15\" class=\"data row7 col15\" >3</td> \n",
       "        <td id=\"T_5d9f83b4_7366_11ea_9d93_0242ac11004crow7_col16\" class=\"data row7 col16\" >1</td> \n",
       "        <td id=\"T_5d9f83b4_7366_11ea_9d93_0242ac11004crow7_col17\" class=\"data row7 col17\" >1</td> \n",
       "        <td id=\"T_5d9f83b4_7366_11ea_9d93_0242ac11004crow7_col18\" class=\"data row7 col18\" >244</td> \n",
       "        <td id=\"T_5d9f83b4_7366_11ea_9d93_0242ac11004crow7_col19\" class=\"data row7 col19\" >62</td> \n",
       "    </tr>    <tr> \n",
       "        <th id=\"T_5d9f83b4_7366_11ea_9d93_0242ac11004clevel0_row8\" class=\"row_heading level0 row8\" >lstm</th> \n",
       "        <td id=\"T_5d9f83b4_7366_11ea_9d93_0242ac11004crow8_col0\" class=\"data row8 col0\" >5</td> \n",
       "        <td id=\"T_5d9f83b4_7366_11ea_9d93_0242ac11004crow8_col1\" class=\"data row8 col1\" >1</td> \n",
       "        <td id=\"T_5d9f83b4_7366_11ea_9d93_0242ac11004crow8_col2\" class=\"data row8 col2\" >3</td> \n",
       "        <td id=\"T_5d9f83b4_7366_11ea_9d93_0242ac11004crow8_col3\" class=\"data row8 col3\" >13</td> \n",
       "        <td id=\"T_5d9f83b4_7366_11ea_9d93_0242ac11004crow8_col4\" class=\"data row8 col4\" >3</td> \n",
       "        <td id=\"T_5d9f83b4_7366_11ea_9d93_0242ac11004crow8_col5\" class=\"data row8 col5\" >7</td> \n",
       "        <td id=\"T_5d9f83b4_7366_11ea_9d93_0242ac11004crow8_col6\" class=\"data row8 col6\" >11</td> \n",
       "        <td id=\"T_5d9f83b4_7366_11ea_9d93_0242ac11004crow8_col7\" class=\"data row8 col7\" >7</td> \n",
       "        <td id=\"T_5d9f83b4_7366_11ea_9d93_0242ac11004crow8_col8\" class=\"data row8 col8\" >402</td> \n",
       "        <td id=\"T_5d9f83b4_7366_11ea_9d93_0242ac11004crow8_col9\" class=\"data row8 col9\" >87</td> \n",
       "        <td id=\"T_5d9f83b4_7366_11ea_9d93_0242ac11004crow8_col10\" class=\"data row8 col10\" >24</td> \n",
       "        <td id=\"T_5d9f83b4_7366_11ea_9d93_0242ac11004crow8_col11\" class=\"data row8 col11\" >19</td> \n",
       "        <td id=\"T_5d9f83b4_7366_11ea_9d93_0242ac11004crow8_col12\" class=\"data row8 col12\" >2</td> \n",
       "        <td id=\"T_5d9f83b4_7366_11ea_9d93_0242ac11004crow8_col13\" class=\"data row8 col13\" >43</td> \n",
       "        <td id=\"T_5d9f83b4_7366_11ea_9d93_0242ac11004crow8_col14\" class=\"data row8 col14\" >20</td> \n",
       "        <td id=\"T_5d9f83b4_7366_11ea_9d93_0242ac11004crow8_col15\" class=\"data row8 col15\" >133</td> \n",
       "        <td id=\"T_5d9f83b4_7366_11ea_9d93_0242ac11004crow8_col16\" class=\"data row8 col16\" >69</td> \n",
       "        <td id=\"T_5d9f83b4_7366_11ea_9d93_0242ac11004crow8_col17\" class=\"data row8 col17\" >103</td> \n",
       "        <td id=\"T_5d9f83b4_7366_11ea_9d93_0242ac11004crow8_col18\" class=\"data row8 col18\" >61</td> \n",
       "        <td id=\"T_5d9f83b4_7366_11ea_9d93_0242ac11004crow8_col19\" class=\"data row8 col19\" >71</td> \n",
       "    </tr>    <tr> \n",
       "        <th id=\"T_5d9f83b4_7366_11ea_9d93_0242ac11004clevel0_row9\" class=\"row_heading level0 row9\" >time-series</th> \n",
       "        <td id=\"T_5d9f83b4_7366_11ea_9d93_0242ac11004crow9_col0\" class=\"data row9 col0\" >7</td> \n",
       "        <td id=\"T_5d9f83b4_7366_11ea_9d93_0242ac11004crow9_col1\" class=\"data row9 col1\" >22</td> \n",
       "        <td id=\"T_5d9f83b4_7366_11ea_9d93_0242ac11004crow9_col2\" class=\"data row9 col2\" >20</td> \n",
       "        <td id=\"T_5d9f83b4_7366_11ea_9d93_0242ac11004crow9_col3\" class=\"data row9 col3\" >31</td> \n",
       "        <td id=\"T_5d9f83b4_7366_11ea_9d93_0242ac11004crow9_col4\" class=\"data row9 col4\" >22</td> \n",
       "        <td id=\"T_5d9f83b4_7366_11ea_9d93_0242ac11004crow9_col5\" class=\"data row9 col5\" >6</td> \n",
       "        <td id=\"T_5d9f83b4_7366_11ea_9d93_0242ac11004crow9_col6\" class=\"data row9 col6\" >24</td> \n",
       "        <td id=\"T_5d9f83b4_7366_11ea_9d93_0242ac11004crow9_col7\" class=\"data row9 col7\" >19</td> \n",
       "        <td id=\"T_5d9f83b4_7366_11ea_9d93_0242ac11004crow9_col8\" class=\"data row9 col8\" >87</td> \n",
       "        <td id=\"T_5d9f83b4_7366_11ea_9d93_0242ac11004crow9_col9\" class=\"data row9 col9\" >466</td> \n",
       "        <td id=\"T_5d9f83b4_7366_11ea_9d93_0242ac11004crow9_col10\" class=\"data row9 col10\" >8</td> \n",
       "        <td id=\"T_5d9f83b4_7366_11ea_9d93_0242ac11004crow9_col11\" class=\"data row9 col11\" >0</td> \n",
       "        <td id=\"T_5d9f83b4_7366_11ea_9d93_0242ac11004crow9_col12\" class=\"data row9 col12\" >12</td> \n",
       "        <td id=\"T_5d9f83b4_7366_11ea_9d93_0242ac11004crow9_col13\" class=\"data row9 col13\" >9</td> \n",
       "        <td id=\"T_5d9f83b4_7366_11ea_9d93_0242ac11004crow9_col14\" class=\"data row9 col14\" >25</td> \n",
       "        <td id=\"T_5d9f83b4_7366_11ea_9d93_0242ac11004crow9_col15\" class=\"data row9 col15\" >51</td> \n",
       "        <td id=\"T_5d9f83b4_7366_11ea_9d93_0242ac11004crow9_col16\" class=\"data row9 col16\" >33</td> \n",
       "        <td id=\"T_5d9f83b4_7366_11ea_9d93_0242ac11004crow9_col17\" class=\"data row9 col17\" >44</td> \n",
       "        <td id=\"T_5d9f83b4_7366_11ea_9d93_0242ac11004crow9_col18\" class=\"data row9 col18\" >105</td> \n",
       "        <td id=\"T_5d9f83b4_7366_11ea_9d93_0242ac11004crow9_col19\" class=\"data row9 col19\" >131</td> \n",
       "    </tr>    <tr> \n",
       "        <th id=\"T_5d9f83b4_7366_11ea_9d93_0242ac11004clevel0_row10\" class=\"row_heading level0 row10\" >cnn</th> \n",
       "        <td id=\"T_5d9f83b4_7366_11ea_9d93_0242ac11004crow10_col0\" class=\"data row10 col0\" >4</td> \n",
       "        <td id=\"T_5d9f83b4_7366_11ea_9d93_0242ac11004crow10_col1\" class=\"data row10 col1\" >1</td> \n",
       "        <td id=\"T_5d9f83b4_7366_11ea_9d93_0242ac11004crow10_col2\" class=\"data row10 col2\" >0</td> \n",
       "        <td id=\"T_5d9f83b4_7366_11ea_9d93_0242ac11004crow10_col3\" class=\"data row10 col3\" >6</td> \n",
       "        <td id=\"T_5d9f83b4_7366_11ea_9d93_0242ac11004crow10_col4\" class=\"data row10 col4\" >2</td> \n",
       "        <td id=\"T_5d9f83b4_7366_11ea_9d93_0242ac11004crow10_col5\" class=\"data row10 col5\" >11</td> \n",
       "        <td id=\"T_5d9f83b4_7366_11ea_9d93_0242ac11004crow10_col6\" class=\"data row10 col6\" >6</td> \n",
       "        <td id=\"T_5d9f83b4_7366_11ea_9d93_0242ac11004crow10_col7\" class=\"data row10 col7\" >1</td> \n",
       "        <td id=\"T_5d9f83b4_7366_11ea_9d93_0242ac11004crow10_col8\" class=\"data row10 col8\" >24</td> \n",
       "        <td id=\"T_5d9f83b4_7366_11ea_9d93_0242ac11004crow10_col9\" class=\"data row10 col9\" >8</td> \n",
       "        <td id=\"T_5d9f83b4_7366_11ea_9d93_0242ac11004crow10_col10\" class=\"data row10 col10\" >489</td> \n",
       "        <td id=\"T_5d9f83b4_7366_11ea_9d93_0242ac11004crow10_col11\" class=\"data row10 col11\" >7</td> \n",
       "        <td id=\"T_5d9f83b4_7366_11ea_9d93_0242ac11004crow10_col12\" class=\"data row10 col12\" >0</td> \n",
       "        <td id=\"T_5d9f83b4_7366_11ea_9d93_0242ac11004crow10_col13\" class=\"data row10 col13\" >57</td> \n",
       "        <td id=\"T_5d9f83b4_7366_11ea_9d93_0242ac11004crow10_col14\" class=\"data row10 col14\" >20</td> \n",
       "        <td id=\"T_5d9f83b4_7366_11ea_9d93_0242ac11004crow10_col15\" class=\"data row10 col15\" >116</td> \n",
       "        <td id=\"T_5d9f83b4_7366_11ea_9d93_0242ac11004crow10_col16\" class=\"data row10 col16\" >118</td> \n",
       "        <td id=\"T_5d9f83b4_7366_11ea_9d93_0242ac11004crow10_col17\" class=\"data row10 col17\" >160</td> \n",
       "        <td id=\"T_5d9f83b4_7366_11ea_9d93_0242ac11004crow10_col18\" class=\"data row10 col18\" >62</td> \n",
       "        <td id=\"T_5d9f83b4_7366_11ea_9d93_0242ac11004crow10_col19\" class=\"data row10 col19\" >124</td> \n",
       "    </tr>    <tr> \n",
       "        <th id=\"T_5d9f83b4_7366_11ea_9d93_0242ac11004clevel0_row11\" class=\"row_heading level0 row11\" >nlp</th> \n",
       "        <td id=\"T_5d9f83b4_7366_11ea_9d93_0242ac11004crow11_col0\" class=\"data row11 col0\" >4</td> \n",
       "        <td id=\"T_5d9f83b4_7366_11ea_9d93_0242ac11004crow11_col1\" class=\"data row11 col1\" >3</td> \n",
       "        <td id=\"T_5d9f83b4_7366_11ea_9d93_0242ac11004crow11_col2\" class=\"data row11 col2\" >9</td> \n",
       "        <td id=\"T_5d9f83b4_7366_11ea_9d93_0242ac11004crow11_col3\" class=\"data row11 col3\" >1</td> \n",
       "        <td id=\"T_5d9f83b4_7366_11ea_9d93_0242ac11004crow11_col4\" class=\"data row11 col4\" >4</td> \n",
       "        <td id=\"T_5d9f83b4_7366_11ea_9d93_0242ac11004crow11_col5\" class=\"data row11 col5\" >11</td> \n",
       "        <td id=\"T_5d9f83b4_7366_11ea_9d93_0242ac11004crow11_col6\" class=\"data row11 col6\" >2</td> \n",
       "        <td id=\"T_5d9f83b4_7366_11ea_9d93_0242ac11004crow11_col7\" class=\"data row11 col7\" >3</td> \n",
       "        <td id=\"T_5d9f83b4_7366_11ea_9d93_0242ac11004crow11_col8\" class=\"data row11 col8\" >19</td> \n",
       "        <td id=\"T_5d9f83b4_7366_11ea_9d93_0242ac11004crow11_col9\" class=\"data row11 col9\" >0</td> \n",
       "        <td id=\"T_5d9f83b4_7366_11ea_9d93_0242ac11004crow11_col10\" class=\"data row11 col10\" >7</td> \n",
       "        <td id=\"T_5d9f83b4_7366_11ea_9d93_0242ac11004crow11_col11\" class=\"data row11 col11\" >493</td> \n",
       "        <td id=\"T_5d9f83b4_7366_11ea_9d93_0242ac11004crow11_col12\" class=\"data row11 col12\" >12</td> \n",
       "        <td id=\"T_5d9f83b4_7366_11ea_9d93_0242ac11004crow11_col13\" class=\"data row11 col13\" >11</td> \n",
       "        <td id=\"T_5d9f83b4_7366_11ea_9d93_0242ac11004crow11_col14\" class=\"data row11 col14\" >35</td> \n",
       "        <td id=\"T_5d9f83b4_7366_11ea_9d93_0242ac11004crow11_col15\" class=\"data row11 col15\" >23</td> \n",
       "        <td id=\"T_5d9f83b4_7366_11ea_9d93_0242ac11004crow11_col16\" class=\"data row11 col16\" >24</td> \n",
       "        <td id=\"T_5d9f83b4_7366_11ea_9d93_0242ac11004crow11_col17\" class=\"data row11 col17\" >72</td> \n",
       "        <td id=\"T_5d9f83b4_7366_11ea_9d93_0242ac11004crow11_col18\" class=\"data row11 col18\" >71</td> \n",
       "        <td id=\"T_5d9f83b4_7366_11ea_9d93_0242ac11004crow11_col19\" class=\"data row11 col19\" >113</td> \n",
       "    </tr>    <tr> \n",
       "        <th id=\"T_5d9f83b4_7366_11ea_9d93_0242ac11004clevel0_row12\" class=\"row_heading level0 row12\" >scikit-learn</th> \n",
       "        <td id=\"T_5d9f83b4_7366_11ea_9d93_0242ac11004crow12_col0\" class=\"data row12 col0\" >18</td> \n",
       "        <td id=\"T_5d9f83b4_7366_11ea_9d93_0242ac11004crow12_col1\" class=\"data row12 col1\" >6</td> \n",
       "        <td id=\"T_5d9f83b4_7366_11ea_9d93_0242ac11004crow12_col2\" class=\"data row12 col2\" >24</td> \n",
       "        <td id=\"T_5d9f83b4_7366_11ea_9d93_0242ac11004crow12_col3\" class=\"data row12 col3\" >12</td> \n",
       "        <td id=\"T_5d9f83b4_7366_11ea_9d93_0242ac11004crow12_col4\" class=\"data row12 col4\" >1</td> \n",
       "        <td id=\"T_5d9f83b4_7366_11ea_9d93_0242ac11004crow12_col5\" class=\"data row12 col5\" >9</td> \n",
       "        <td id=\"T_5d9f83b4_7366_11ea_9d93_0242ac11004crow12_col6\" class=\"data row12 col6\" >37</td> \n",
       "        <td id=\"T_5d9f83b4_7366_11ea_9d93_0242ac11004crow12_col7\" class=\"data row12 col7\" >37</td> \n",
       "        <td id=\"T_5d9f83b4_7366_11ea_9d93_0242ac11004crow12_col8\" class=\"data row12 col8\" >2</td> \n",
       "        <td id=\"T_5d9f83b4_7366_11ea_9d93_0242ac11004crow12_col9\" class=\"data row12 col9\" >12</td> \n",
       "        <td id=\"T_5d9f83b4_7366_11ea_9d93_0242ac11004crow12_col10\" class=\"data row12 col10\" >0</td> \n",
       "        <td id=\"T_5d9f83b4_7366_11ea_9d93_0242ac11004crow12_col11\" class=\"data row12 col11\" >12</td> \n",
       "        <td id=\"T_5d9f83b4_7366_11ea_9d93_0242ac11004crow12_col12\" class=\"data row12 col12\" >540</td> \n",
       "        <td id=\"T_5d9f83b4_7366_11ea_9d93_0242ac11004crow12_col13\" class=\"data row12 col13\" >15</td> \n",
       "        <td id=\"T_5d9f83b4_7366_11ea_9d93_0242ac11004crow12_col14\" class=\"data row12 col14\" >47</td> \n",
       "        <td id=\"T_5d9f83b4_7366_11ea_9d93_0242ac11004crow12_col15\" class=\"data row12 col15\" >34</td> \n",
       "        <td id=\"T_5d9f83b4_7366_11ea_9d93_0242ac11004crow12_col16\" class=\"data row12 col16\" >24</td> \n",
       "        <td id=\"T_5d9f83b4_7366_11ea_9d93_0242ac11004crow12_col17\" class=\"data row12 col17\" >16</td> \n",
       "        <td id=\"T_5d9f83b4_7366_11ea_9d93_0242ac11004crow12_col18\" class=\"data row12 col18\" >235</td> \n",
       "        <td id=\"T_5d9f83b4_7366_11ea_9d93_0242ac11004crow12_col19\" class=\"data row12 col19\" >188</td> \n",
       "    </tr>    <tr> \n",
       "        <th id=\"T_5d9f83b4_7366_11ea_9d93_0242ac11004clevel0_row13\" class=\"row_heading level0 row13\" >tensorflow</th> \n",
       "        <td id=\"T_5d9f83b4_7366_11ea_9d93_0242ac11004crow13_col0\" class=\"data row13 col0\" >9</td> \n",
       "        <td id=\"T_5d9f83b4_7366_11ea_9d93_0242ac11004crow13_col1\" class=\"data row13 col1\" >0</td> \n",
       "        <td id=\"T_5d9f83b4_7366_11ea_9d93_0242ac11004crow13_col2\" class=\"data row13 col2\" >0</td> \n",
       "        <td id=\"T_5d9f83b4_7366_11ea_9d93_0242ac11004crow13_col3\" class=\"data row13 col3\" >6</td> \n",
       "        <td id=\"T_5d9f83b4_7366_11ea_9d93_0242ac11004crow13_col4\" class=\"data row13 col4\" >1</td> \n",
       "        <td id=\"T_5d9f83b4_7366_11ea_9d93_0242ac11004crow13_col5\" class=\"data row13 col5\" >9</td> \n",
       "        <td id=\"T_5d9f83b4_7366_11ea_9d93_0242ac11004crow13_col6\" class=\"data row13 col6\" >9</td> \n",
       "        <td id=\"T_5d9f83b4_7366_11ea_9d93_0242ac11004crow13_col7\" class=\"data row13 col7\" >3</td> \n",
       "        <td id=\"T_5d9f83b4_7366_11ea_9d93_0242ac11004crow13_col8\" class=\"data row13 col8\" >43</td> \n",
       "        <td id=\"T_5d9f83b4_7366_11ea_9d93_0242ac11004crow13_col9\" class=\"data row13 col9\" >9</td> \n",
       "        <td id=\"T_5d9f83b4_7366_11ea_9d93_0242ac11004crow13_col10\" class=\"data row13 col10\" >57</td> \n",
       "        <td id=\"T_5d9f83b4_7366_11ea_9d93_0242ac11004crow13_col11\" class=\"data row13 col11\" >11</td> \n",
       "        <td id=\"T_5d9f83b4_7366_11ea_9d93_0242ac11004crow13_col12\" class=\"data row13 col12\" >15</td> \n",
       "        <td id=\"T_5d9f83b4_7366_11ea_9d93_0242ac11004crow13_col13\" class=\"data row13 col13\" >584</td> \n",
       "        <td id=\"T_5d9f83b4_7366_11ea_9d93_0242ac11004crow13_col14\" class=\"data row13 col14\" >20</td> \n",
       "        <td id=\"T_5d9f83b4_7366_11ea_9d93_0242ac11004crow13_col15\" class=\"data row13 col15\" >256</td> \n",
       "        <td id=\"T_5d9f83b4_7366_11ea_9d93_0242ac11004crow13_col16\" class=\"data row13 col16\" >108</td> \n",
       "        <td id=\"T_5d9f83b4_7366_11ea_9d93_0242ac11004crow13_col17\" class=\"data row13 col17\" >136</td> \n",
       "        <td id=\"T_5d9f83b4_7366_11ea_9d93_0242ac11004crow13_col18\" class=\"data row13 col18\" >167</td> \n",
       "        <td id=\"T_5d9f83b4_7366_11ea_9d93_0242ac11004crow13_col19\" class=\"data row13 col19\" >106</td> \n",
       "    </tr>    <tr> \n",
       "        <th id=\"T_5d9f83b4_7366_11ea_9d93_0242ac11004clevel0_row14\" class=\"row_heading level0 row14\" >classification</th> \n",
       "        <td id=\"T_5d9f83b4_7366_11ea_9d93_0242ac11004crow14_col0\" class=\"data row14 col0\" >21</td> \n",
       "        <td id=\"T_5d9f83b4_7366_11ea_9d93_0242ac11004crow14_col1\" class=\"data row14 col1\" >19</td> \n",
       "        <td id=\"T_5d9f83b4_7366_11ea_9d93_0242ac11004crow14_col2\" class=\"data row14 col2\" >12</td> \n",
       "        <td id=\"T_5d9f83b4_7366_11ea_9d93_0242ac11004crow14_col3\" class=\"data row14 col3\" >27</td> \n",
       "        <td id=\"T_5d9f83b4_7366_11ea_9d93_0242ac11004crow14_col4\" class=\"data row14 col4\" >10</td> \n",
       "        <td id=\"T_5d9f83b4_7366_11ea_9d93_0242ac11004crow14_col5\" class=\"data row14 col5\" >28</td> \n",
       "        <td id=\"T_5d9f83b4_7366_11ea_9d93_0242ac11004crow14_col6\" class=\"data row14 col6\" >34</td> \n",
       "        <td id=\"T_5d9f83b4_7366_11ea_9d93_0242ac11004crow14_col7\" class=\"data row14 col7\" >3</td> \n",
       "        <td id=\"T_5d9f83b4_7366_11ea_9d93_0242ac11004crow14_col8\" class=\"data row14 col8\" >20</td> \n",
       "        <td id=\"T_5d9f83b4_7366_11ea_9d93_0242ac11004crow14_col9\" class=\"data row14 col9\" >25</td> \n",
       "        <td id=\"T_5d9f83b4_7366_11ea_9d93_0242ac11004crow14_col10\" class=\"data row14 col10\" >20</td> \n",
       "        <td id=\"T_5d9f83b4_7366_11ea_9d93_0242ac11004crow14_col11\" class=\"data row14 col11\" >35</td> \n",
       "        <td id=\"T_5d9f83b4_7366_11ea_9d93_0242ac11004crow14_col12\" class=\"data row14 col12\" >47</td> \n",
       "        <td id=\"T_5d9f83b4_7366_11ea_9d93_0242ac11004crow14_col13\" class=\"data row14 col13\" >20</td> \n",
       "        <td id=\"T_5d9f83b4_7366_11ea_9d93_0242ac11004crow14_col14\" class=\"data row14 col14\" >685</td> \n",
       "        <td id=\"T_5d9f83b4_7366_11ea_9d93_0242ac11004crow14_col15\" class=\"data row14 col15\" >58</td> \n",
       "        <td id=\"T_5d9f83b4_7366_11ea_9d93_0242ac11004crow14_col16\" class=\"data row14 col16\" >65</td> \n",
       "        <td id=\"T_5d9f83b4_7366_11ea_9d93_0242ac11004crow14_col17\" class=\"data row14 col17\" >59</td> \n",
       "        <td id=\"T_5d9f83b4_7366_11ea_9d93_0242ac11004crow14_col18\" class=\"data row14 col18\" >98</td> \n",
       "        <td id=\"T_5d9f83b4_7366_11ea_9d93_0242ac11004crow14_col19\" class=\"data row14 col19\" >259</td> \n",
       "    </tr>    <tr> \n",
       "        <th id=\"T_5d9f83b4_7366_11ea_9d93_0242ac11004clevel0_row15\" class=\"row_heading level0 row15\" >keras</th> \n",
       "        <td id=\"T_5d9f83b4_7366_11ea_9d93_0242ac11004crow15_col0\" class=\"data row15 col0\" >17</td> \n",
       "        <td id=\"T_5d9f83b4_7366_11ea_9d93_0242ac11004crow15_col1\" class=\"data row15 col1\" >3</td> \n",
       "        <td id=\"T_5d9f83b4_7366_11ea_9d93_0242ac11004crow15_col2\" class=\"data row15 col2\" >0</td> \n",
       "        <td id=\"T_5d9f83b4_7366_11ea_9d93_0242ac11004crow15_col3\" class=\"data row15 col3\" >11</td> \n",
       "        <td id=\"T_5d9f83b4_7366_11ea_9d93_0242ac11004crow15_col4\" class=\"data row15 col4\" >10</td> \n",
       "        <td id=\"T_5d9f83b4_7366_11ea_9d93_0242ac11004crow15_col5\" class=\"data row15 col5\" >13</td> \n",
       "        <td id=\"T_5d9f83b4_7366_11ea_9d93_0242ac11004crow15_col6\" class=\"data row15 col6\" >31</td> \n",
       "        <td id=\"T_5d9f83b4_7366_11ea_9d93_0242ac11004crow15_col7\" class=\"data row15 col7\" >3</td> \n",
       "        <td id=\"T_5d9f83b4_7366_11ea_9d93_0242ac11004crow15_col8\" class=\"data row15 col8\" >133</td> \n",
       "        <td id=\"T_5d9f83b4_7366_11ea_9d93_0242ac11004crow15_col9\" class=\"data row15 col9\" >51</td> \n",
       "        <td id=\"T_5d9f83b4_7366_11ea_9d93_0242ac11004crow15_col10\" class=\"data row15 col10\" >116</td> \n",
       "        <td id=\"T_5d9f83b4_7366_11ea_9d93_0242ac11004crow15_col11\" class=\"data row15 col11\" >23</td> \n",
       "        <td id=\"T_5d9f83b4_7366_11ea_9d93_0242ac11004crow15_col12\" class=\"data row15 col12\" >34</td> \n",
       "        <td id=\"T_5d9f83b4_7366_11ea_9d93_0242ac11004crow15_col13\" class=\"data row15 col13\" >256</td> \n",
       "        <td id=\"T_5d9f83b4_7366_11ea_9d93_0242ac11004crow15_col14\" class=\"data row15 col14\" >58</td> \n",
       "        <td id=\"T_5d9f83b4_7366_11ea_9d93_0242ac11004crow15_col15\" class=\"data row15 col15\" >935</td> \n",
       "        <td id=\"T_5d9f83b4_7366_11ea_9d93_0242ac11004crow15_col16\" class=\"data row15 col16\" >235</td> \n",
       "        <td id=\"T_5d9f83b4_7366_11ea_9d93_0242ac11004crow15_col17\" class=\"data row15 col17\" >247</td> \n",
       "        <td id=\"T_5d9f83b4_7366_11ea_9d93_0242ac11004crow15_col18\" class=\"data row15 col18\" >280</td> \n",
       "        <td id=\"T_5d9f83b4_7366_11ea_9d93_0242ac11004crow15_col19\" class=\"data row15 col19\" >195</td> \n",
       "    </tr>    <tr> \n",
       "        <th id=\"T_5d9f83b4_7366_11ea_9d93_0242ac11004clevel0_row16\" class=\"row_heading level0 row16\" >neural-network</th> \n",
       "        <td id=\"T_5d9f83b4_7366_11ea_9d93_0242ac11004crow16_col0\" class=\"data row16 col0\" >10</td> \n",
       "        <td id=\"T_5d9f83b4_7366_11ea_9d93_0242ac11004crow16_col1\" class=\"data row16 col1\" >11</td> \n",
       "        <td id=\"T_5d9f83b4_7366_11ea_9d93_0242ac11004crow16_col2\" class=\"data row16 col2\" >8</td> \n",
       "        <td id=\"T_5d9f83b4_7366_11ea_9d93_0242ac11004crow16_col3\" class=\"data row16 col3\" >13</td> \n",
       "        <td id=\"T_5d9f83b4_7366_11ea_9d93_0242ac11004crow16_col4\" class=\"data row16 col4\" >9</td> \n",
       "        <td id=\"T_5d9f83b4_7366_11ea_9d93_0242ac11004crow16_col5\" class=\"data row16 col5\" >20</td> \n",
       "        <td id=\"T_5d9f83b4_7366_11ea_9d93_0242ac11004crow16_col6\" class=\"data row16 col6\" >42</td> \n",
       "        <td id=\"T_5d9f83b4_7366_11ea_9d93_0242ac11004crow16_col7\" class=\"data row16 col7\" >1</td> \n",
       "        <td id=\"T_5d9f83b4_7366_11ea_9d93_0242ac11004crow16_col8\" class=\"data row16 col8\" >69</td> \n",
       "        <td id=\"T_5d9f83b4_7366_11ea_9d93_0242ac11004crow16_col9\" class=\"data row16 col9\" >33</td> \n",
       "        <td id=\"T_5d9f83b4_7366_11ea_9d93_0242ac11004crow16_col10\" class=\"data row16 col10\" >118</td> \n",
       "        <td id=\"T_5d9f83b4_7366_11ea_9d93_0242ac11004crow16_col11\" class=\"data row16 col11\" >24</td> \n",
       "        <td id=\"T_5d9f83b4_7366_11ea_9d93_0242ac11004crow16_col12\" class=\"data row16 col12\" >24</td> \n",
       "        <td id=\"T_5d9f83b4_7366_11ea_9d93_0242ac11004crow16_col13\" class=\"data row16 col13\" >108</td> \n",
       "        <td id=\"T_5d9f83b4_7366_11ea_9d93_0242ac11004crow16_col14\" class=\"data row16 col14\" >65</td> \n",
       "        <td id=\"T_5d9f83b4_7366_11ea_9d93_0242ac11004crow16_col15\" class=\"data row16 col15\" >235</td> \n",
       "        <td id=\"T_5d9f83b4_7366_11ea_9d93_0242ac11004crow16_col16\" class=\"data row16 col16\" >1055</td> \n",
       "        <td id=\"T_5d9f83b4_7366_11ea_9d93_0242ac11004crow16_col17\" class=\"data row16 col17\" >305</td> \n",
       "        <td id=\"T_5d9f83b4_7366_11ea_9d93_0242ac11004crow16_col18\" class=\"data row16 col18\" >137</td> \n",
       "        <td id=\"T_5d9f83b4_7366_11ea_9d93_0242ac11004crow16_col19\" class=\"data row16 col19\" >366</td> \n",
       "    </tr>    <tr> \n",
       "        <th id=\"T_5d9f83b4_7366_11ea_9d93_0242ac11004clevel0_row17\" class=\"row_heading level0 row17\" >deep-learning</th> \n",
       "        <td id=\"T_5d9f83b4_7366_11ea_9d93_0242ac11004crow17_col0\" class=\"data row17 col0\" >19</td> \n",
       "        <td id=\"T_5d9f83b4_7366_11ea_9d93_0242ac11004crow17_col1\" class=\"data row17 col1\" >12</td> \n",
       "        <td id=\"T_5d9f83b4_7366_11ea_9d93_0242ac11004crow17_col2\" class=\"data row17 col2\" >2</td> \n",
       "        <td id=\"T_5d9f83b4_7366_11ea_9d93_0242ac11004crow17_col3\" class=\"data row17 col3\" >32</td> \n",
       "        <td id=\"T_5d9f83b4_7366_11ea_9d93_0242ac11004crow17_col4\" class=\"data row17 col4\" >5</td> \n",
       "        <td id=\"T_5d9f83b4_7366_11ea_9d93_0242ac11004crow17_col5\" class=\"data row17 col5\" >32</td> \n",
       "        <td id=\"T_5d9f83b4_7366_11ea_9d93_0242ac11004crow17_col6\" class=\"data row17 col6\" >21</td> \n",
       "        <td id=\"T_5d9f83b4_7366_11ea_9d93_0242ac11004crow17_col7\" class=\"data row17 col7\" >1</td> \n",
       "        <td id=\"T_5d9f83b4_7366_11ea_9d93_0242ac11004crow17_col8\" class=\"data row17 col8\" >103</td> \n",
       "        <td id=\"T_5d9f83b4_7366_11ea_9d93_0242ac11004crow17_col9\" class=\"data row17 col9\" >44</td> \n",
       "        <td id=\"T_5d9f83b4_7366_11ea_9d93_0242ac11004crow17_col10\" class=\"data row17 col10\" >160</td> \n",
       "        <td id=\"T_5d9f83b4_7366_11ea_9d93_0242ac11004crow17_col11\" class=\"data row17 col11\" >72</td> \n",
       "        <td id=\"T_5d9f83b4_7366_11ea_9d93_0242ac11004crow17_col12\" class=\"data row17 col12\" >16</td> \n",
       "        <td id=\"T_5d9f83b4_7366_11ea_9d93_0242ac11004crow17_col13\" class=\"data row17 col13\" >136</td> \n",
       "        <td id=\"T_5d9f83b4_7366_11ea_9d93_0242ac11004crow17_col14\" class=\"data row17 col14\" >59</td> \n",
       "        <td id=\"T_5d9f83b4_7366_11ea_9d93_0242ac11004crow17_col15\" class=\"data row17 col15\" >247</td> \n",
       "        <td id=\"T_5d9f83b4_7366_11ea_9d93_0242ac11004crow17_col16\" class=\"data row17 col16\" >305</td> \n",
       "        <td id=\"T_5d9f83b4_7366_11ea_9d93_0242ac11004crow17_col17\" class=\"data row17 col17\" >1220</td> \n",
       "        <td id=\"T_5d9f83b4_7366_11ea_9d93_0242ac11004crow17_col18\" class=\"data row17 col18\" >160</td> \n",
       "        <td id=\"T_5d9f83b4_7366_11ea_9d93_0242ac11004crow17_col19\" class=\"data row17 col19\" >429</td> \n",
       "    </tr>    <tr> \n",
       "        <th id=\"T_5d9f83b4_7366_11ea_9d93_0242ac11004clevel0_row18\" class=\"row_heading level0 row18\" >python</th> \n",
       "        <td id=\"T_5d9f83b4_7366_11ea_9d93_0242ac11004crow18_col0\" class=\"data row18 col0\" >37</td> \n",
       "        <td id=\"T_5d9f83b4_7366_11ea_9d93_0242ac11004crow18_col1\" class=\"data row18 col1\" >35</td> \n",
       "        <td id=\"T_5d9f83b4_7366_11ea_9d93_0242ac11004crow18_col2\" class=\"data row18 col2\" >45</td> \n",
       "        <td id=\"T_5d9f83b4_7366_11ea_9d93_0242ac11004crow18_col3\" class=\"data row18 col3\" >35</td> \n",
       "        <td id=\"T_5d9f83b4_7366_11ea_9d93_0242ac11004crow18_col4\" class=\"data row18 col4\" >24</td> \n",
       "        <td id=\"T_5d9f83b4_7366_11ea_9d93_0242ac11004crow18_col5\" class=\"data row18 col5\" >53</td> \n",
       "        <td id=\"T_5d9f83b4_7366_11ea_9d93_0242ac11004crow18_col6\" class=\"data row18 col6\" >59</td> \n",
       "        <td id=\"T_5d9f83b4_7366_11ea_9d93_0242ac11004crow18_col7\" class=\"data row18 col7\" >244</td> \n",
       "        <td id=\"T_5d9f83b4_7366_11ea_9d93_0242ac11004crow18_col8\" class=\"data row18 col8\" >61</td> \n",
       "        <td id=\"T_5d9f83b4_7366_11ea_9d93_0242ac11004crow18_col9\" class=\"data row18 col9\" >105</td> \n",
       "        <td id=\"T_5d9f83b4_7366_11ea_9d93_0242ac11004crow18_col10\" class=\"data row18 col10\" >62</td> \n",
       "        <td id=\"T_5d9f83b4_7366_11ea_9d93_0242ac11004crow18_col11\" class=\"data row18 col11\" >71</td> \n",
       "        <td id=\"T_5d9f83b4_7366_11ea_9d93_0242ac11004crow18_col12\" class=\"data row18 col12\" >235</td> \n",
       "        <td id=\"T_5d9f83b4_7366_11ea_9d93_0242ac11004crow18_col13\" class=\"data row18 col13\" >167</td> \n",
       "        <td id=\"T_5d9f83b4_7366_11ea_9d93_0242ac11004crow18_col14\" class=\"data row18 col14\" >98</td> \n",
       "        <td id=\"T_5d9f83b4_7366_11ea_9d93_0242ac11004crow18_col15\" class=\"data row18 col15\" >280</td> \n",
       "        <td id=\"T_5d9f83b4_7366_11ea_9d93_0242ac11004crow18_col16\" class=\"data row18 col16\" >137</td> \n",
       "        <td id=\"T_5d9f83b4_7366_11ea_9d93_0242ac11004crow18_col17\" class=\"data row18 col17\" >160</td> \n",
       "        <td id=\"T_5d9f83b4_7366_11ea_9d93_0242ac11004crow18_col18\" class=\"data row18 col18\" >1814</td> \n",
       "        <td id=\"T_5d9f83b4_7366_11ea_9d93_0242ac11004crow18_col19\" class=\"data row18 col19\" >499</td> \n",
       "    </tr>    <tr> \n",
       "        <th id=\"T_5d9f83b4_7366_11ea_9d93_0242ac11004clevel0_row19\" class=\"row_heading level0 row19\" >machine-learning</th> \n",
       "        <td id=\"T_5d9f83b4_7366_11ea_9d93_0242ac11004crow19_col0\" class=\"data row19 col0\" >139</td> \n",
       "        <td id=\"T_5d9f83b4_7366_11ea_9d93_0242ac11004crow19_col1\" class=\"data row19 col1\" >89</td> \n",
       "        <td id=\"T_5d9f83b4_7366_11ea_9d93_0242ac11004crow19_col2\" class=\"data row19 col2\" >61</td> \n",
       "        <td id=\"T_5d9f83b4_7366_11ea_9d93_0242ac11004crow19_col3\" class=\"data row19 col3\" >123</td> \n",
       "        <td id=\"T_5d9f83b4_7366_11ea_9d93_0242ac11004crow19_col4\" class=\"data row19 col4\" >63</td> \n",
       "        <td id=\"T_5d9f83b4_7366_11ea_9d93_0242ac11004crow19_col5\" class=\"data row19 col5\" >99</td> \n",
       "        <td id=\"T_5d9f83b4_7366_11ea_9d93_0242ac11004crow19_col6\" class=\"data row19 col6\" >119</td> \n",
       "        <td id=\"T_5d9f83b4_7366_11ea_9d93_0242ac11004crow19_col7\" class=\"data row19 col7\" >62</td> \n",
       "        <td id=\"T_5d9f83b4_7366_11ea_9d93_0242ac11004crow19_col8\" class=\"data row19 col8\" >71</td> \n",
       "        <td id=\"T_5d9f83b4_7366_11ea_9d93_0242ac11004crow19_col9\" class=\"data row19 col9\" >131</td> \n",
       "        <td id=\"T_5d9f83b4_7366_11ea_9d93_0242ac11004crow19_col10\" class=\"data row19 col10\" >124</td> \n",
       "        <td id=\"T_5d9f83b4_7366_11ea_9d93_0242ac11004crow19_col11\" class=\"data row19 col11\" >113</td> \n",
       "        <td id=\"T_5d9f83b4_7366_11ea_9d93_0242ac11004crow19_col12\" class=\"data row19 col12\" >188</td> \n",
       "        <td id=\"T_5d9f83b4_7366_11ea_9d93_0242ac11004crow19_col13\" class=\"data row19 col13\" >106</td> \n",
       "        <td id=\"T_5d9f83b4_7366_11ea_9d93_0242ac11004crow19_col14\" class=\"data row19 col14\" >259</td> \n",
       "        <td id=\"T_5d9f83b4_7366_11ea_9d93_0242ac11004crow19_col15\" class=\"data row19 col15\" >195</td> \n",
       "        <td id=\"T_5d9f83b4_7366_11ea_9d93_0242ac11004crow19_col16\" class=\"data row19 col16\" >366</td> \n",
       "        <td id=\"T_5d9f83b4_7366_11ea_9d93_0242ac11004crow19_col17\" class=\"data row19 col17\" >429</td> \n",
       "        <td id=\"T_5d9f83b4_7366_11ea_9d93_0242ac11004crow19_col18\" class=\"data row19 col18\" >499</td> \n",
       "        <td id=\"T_5d9f83b4_7366_11ea_9d93_0242ac11004crow19_col19\" class=\"data row19 col19\" >2693</td> \n",
       "    </tr></tbody> \n",
       "</table> "
      ],
      "text/plain": [
       "<pandas.io.formats.style.Styler at 0x7f77ddf39470>"
      ]
     },
     "execution_count": 34,
     "metadata": {},
     "output_type": "execute_result"
    }
   ],
   "source": [
    "relations_most_used = associations.loc[most_used.index, most_used.index]\n",
    "\n",
    "def style_cells(x):\n",
    "    helper_df = pd.DataFrame('', index=x.index, columns=x.columns)\n",
    "    helper_df.loc[\"time-series\", \"r\"] = \"background-color: yellow\"\n",
    "    helper_df.loc[\"r\", \"time-series\"] = \"background-color: yellow\"\n",
    "    for k in range(helper_df.shape[0]):\n",
    "        helper_df.iloc[k,k] = \"color: blue\"\n",
    "    \n",
    "    return helper_df\n",
    "\n",
    "relations_most_used.style.apply(style_cells, axis=None)"
   ]
  },
  {
   "cell_type": "markdown",
   "metadata": {},
   "source": [
    "The cells highlighted in yellow tell us that time-series was used together with r 22 times. The values in blue tell us how many times each of the tags was used. We saw earlier that machine-learning was used 2693 times and we confirm it in this dataframe.\n",
    "\n",
    "It's hard for a human to understand what is going on in this dataframe. Let's create a heatmap. But before we do it, let's get rid of the values in blue, otherwise the colors will be too skewed."
   ]
  },
  {
   "cell_type": "code",
   "execution_count": 35,
   "metadata": {
    "collapsed": true
   },
   "outputs": [],
   "source": [
    "for i in range(relations_most_used.shape[0]):\n",
    "    relations_most_used.iloc[i,i] = pd.np.NaN"
   ]
  },
  {
   "cell_type": "code",
   "execution_count": 37,
   "metadata": {
    "collapsed": false
   },
   "outputs": [
    {
     "data": {
      "text/plain": [
       "<matplotlib.axes._subplots.AxesSubplot at 0x7f77d6356c88>"
      ]
     },
     "execution_count": 37,
     "metadata": {},
     "output_type": "execute_result"
    },
    {
     "data": {
      "image/png": "[encoded data removed]",
      "text/plain": [
       "<matplotlib.figure.Figure at 0x7f77dda77b38>"
      ]
     },
     "metadata": {},
     "output_type": "display_data"
    }
   ],
   "source": [
    "import seaborn as sns\n",
    "\n",
    "plt.figure(figsize=(12,8))\n",
    "sns.heatmap(relations_most_used, cmap=\"Greens\", annot=False)"
   ]
  },
  {
   "cell_type": "markdown",
   "metadata": {},
   "source": [
    "## Is deep learning just a fad ?"
   ]
  },
  {
   "cell_type": "markdown",
   "metadata": {},
   "source": [
    "In this we will track the interest in deep learning across time. We will:\n",
    "\n",
    "* Count how many deep learning questions are asked per time period.\n",
    "* The total amount of questions per time period.\n",
    "* How many deep learning questions there are relative to the total amount of questions per time period."
   ]
  },
  {
   "cell_type": "code",
   "execution_count": 40,
   "metadata": {
    "collapsed": true
   },
   "outputs": [],
   "source": [
    "all_q = pd.read_csv(\"all_questions.csv\", parse_dates=[\"CreationDate\"])"
   ]
  },
  {
   "cell_type": "code",
   "execution_count": 41,
   "metadata": {
    "collapsed": false
   },
   "outputs": [
    {
     "data": {
      "text/html": [
       "<div>\n",
       "<style scoped>\n",
       "    .dataframe tbody tr th:only-of-type {\n",
       "        vertical-align: middle;\n",
       "    }\n",
       "\n",
       "    .dataframe tbody tr th {\n",
       "        vertical-align: top;\n",
       "    }\n",
       "\n",
       "    .dataframe thead th {\n",
       "        text-align: right;\n",
       "    }\n",
       "</style>\n",
       "<table border=\"1\" class=\"dataframe\">\n",
       "  <thead>\n",
       "    <tr style=\"text-align: right;\">\n",
       "      <th></th>\n",
       "      <th>Id</th>\n",
       "      <th>CreationDate</th>\n",
       "      <th>Tags</th>\n",
       "    </tr>\n",
       "  </thead>\n",
       "  <tbody>\n",
       "    <tr>\n",
       "      <th>0</th>\n",
       "      <td>45416</td>\n",
       "      <td>2019-02-12 00:36:29</td>\n",
       "      <td>&lt;python&gt;&lt;keras&gt;&lt;tensorflow&gt;&lt;cnn&gt;&lt;probability&gt;</td>\n",
       "    </tr>\n",
       "    <tr>\n",
       "      <th>1</th>\n",
       "      <td>45418</td>\n",
       "      <td>2019-02-12 00:50:39</td>\n",
       "      <td>&lt;neural-network&gt;</td>\n",
       "    </tr>\n",
       "    <tr>\n",
       "      <th>2</th>\n",
       "      <td>45422</td>\n",
       "      <td>2019-02-12 04:40:51</td>\n",
       "      <td>&lt;python&gt;&lt;ibm-watson&gt;&lt;chatbot&gt;</td>\n",
       "    </tr>\n",
       "    <tr>\n",
       "      <th>3</th>\n",
       "      <td>45426</td>\n",
       "      <td>2019-02-12 04:51:49</td>\n",
       "      <td>&lt;keras&gt;</td>\n",
       "    </tr>\n",
       "    <tr>\n",
       "      <th>4</th>\n",
       "      <td>45427</td>\n",
       "      <td>2019-02-12 05:08:24</td>\n",
       "      <td>&lt;r&gt;&lt;predictive-modeling&gt;&lt;machine-learning-mode...</td>\n",
       "    </tr>\n",
       "  </tbody>\n",
       "</table>\n",
       "</div>"
      ],
      "text/plain": [
       "      Id        CreationDate  \\\n",
       "0  45416 2019-02-12 00:36:29   \n",
       "1  45418 2019-02-12 00:50:39   \n",
       "2  45422 2019-02-12 04:40:51   \n",
       "3  45426 2019-02-12 04:51:49   \n",
       "4  45427 2019-02-12 05:08:24   \n",
       "\n",
       "                                                Tags  \n",
       "0      <python><keras><tensorflow><cnn><probability>  \n",
       "1                                   <neural-network>  \n",
       "2                      <python><ibm-watson><chatbot>  \n",
       "3                                            <keras>  \n",
       "4  <r><predictive-modeling><machine-learning-mode...  "
      ]
     },
     "execution_count": 41,
     "metadata": {},
     "output_type": "execute_result"
    }
   ],
   "source": [
    "all_q.head()"
   ]
  },
  {
   "cell_type": "code",
   "execution_count": 42,
   "metadata": {
    "collapsed": false
   },
   "outputs": [
    {
     "name": "stdout",
     "output_type": "stream",
     "text": [
      "<class 'pandas.core.frame.DataFrame'>\n",
      "RangeIndex: 21576 entries, 0 to 21575\n",
      "Data columns (total 3 columns):\n",
      "Id              21576 non-null int64\n",
      "CreationDate    21576 non-null datetime64[ns]\n",
      "Tags            21576 non-null object\n",
      "dtypes: datetime64[ns](1), int64(1), object(1)\n",
      "memory usage: 505.8+ KB\n"
     ]
    }
   ],
   "source": [
    "all_q.info()"
   ]
  },
  {
   "cell_type": "markdown",
   "metadata": {},
   "source": [
    "### Transforming the tags column"
   ]
  },
  {
   "cell_type": "code",
   "execution_count": 43,
   "metadata": {
    "collapsed": true
   },
   "outputs": [],
   "source": [
    "all_q[\"Tags\"] = all_q[\"Tags\"].str.replace(\"^<|>$\", \"\").str.split(\"><\")\n"
   ]
  },
  {
   "cell_type": "code",
   "execution_count": 44,
   "metadata": {
    "collapsed": false
   },
   "outputs": [
    {
     "data": {
      "text/html": [
       "<div>\n",
       "<style scoped>\n",
       "    .dataframe tbody tr th:only-of-type {\n",
       "        vertical-align: middle;\n",
       "    }\n",
       "\n",
       "    .dataframe tbody tr th {\n",
       "        vertical-align: top;\n",
       "    }\n",
       "\n",
       "    .dataframe thead th {\n",
       "        text-align: right;\n",
       "    }\n",
       "</style>\n",
       "<table border=\"1\" class=\"dataframe\">\n",
       "  <thead>\n",
       "    <tr style=\"text-align: right;\">\n",
       "      <th></th>\n",
       "      <th>Id</th>\n",
       "      <th>CreationDate</th>\n",
       "      <th>Tags</th>\n",
       "    </tr>\n",
       "  </thead>\n",
       "  <tbody>\n",
       "    <tr>\n",
       "      <th>0</th>\n",
       "      <td>45416</td>\n",
       "      <td>2019-02-12 00:36:29</td>\n",
       "      <td>[python, keras, tensorflow, cnn, probability]</td>\n",
       "    </tr>\n",
       "    <tr>\n",
       "      <th>1</th>\n",
       "      <td>45418</td>\n",
       "      <td>2019-02-12 00:50:39</td>\n",
       "      <td>[neural-network]</td>\n",
       "    </tr>\n",
       "    <tr>\n",
       "      <th>2</th>\n",
       "      <td>45422</td>\n",
       "      <td>2019-02-12 04:40:51</td>\n",
       "      <td>[python, ibm-watson, chatbot]</td>\n",
       "    </tr>\n",
       "    <tr>\n",
       "      <th>3</th>\n",
       "      <td>45426</td>\n",
       "      <td>2019-02-12 04:51:49</td>\n",
       "      <td>[keras]</td>\n",
       "    </tr>\n",
       "    <tr>\n",
       "      <th>4</th>\n",
       "      <td>45427</td>\n",
       "      <td>2019-02-12 05:08:24</td>\n",
       "      <td>[r, predictive-modeling, machine-learning-mode...</td>\n",
       "    </tr>\n",
       "  </tbody>\n",
       "</table>\n",
       "</div>"
      ],
      "text/plain": [
       "      Id        CreationDate  \\\n",
       "0  45416 2019-02-12 00:36:29   \n",
       "1  45418 2019-02-12 00:50:39   \n",
       "2  45422 2019-02-12 04:40:51   \n",
       "3  45426 2019-02-12 04:51:49   \n",
       "4  45427 2019-02-12 05:08:24   \n",
       "\n",
       "                                                Tags  \n",
       "0      [python, keras, tensorflow, cnn, probability]  \n",
       "1                                   [neural-network]  \n",
       "2                      [python, ibm-watson, chatbot]  \n",
       "3                                            [keras]  \n",
       "4  [r, predictive-modeling, machine-learning-mode...  "
      ]
     },
     "execution_count": 44,
     "metadata": {},
     "output_type": "execute_result"
    }
   ],
   "source": [
    "all_q.head()"
   ]
  },
  {
   "cell_type": "code",
   "execution_count": 50,
   "metadata": {
    "collapsed": false
   },
   "outputs": [
    {
     "data": {
      "text/plain": [
       "0            [python, keras, tensorflow, cnn, probability]\n",
       "1                                         [neural-network]\n",
       "2                            [python, ibm-watson, chatbot]\n",
       "3                                                  [keras]\n",
       "4        [r, predictive-modeling, machine-learning-mode...\n",
       "5                                                    [cnn]\n",
       "6                             [machine-learning, learning]\n",
       "7                                       [machine-learning]\n",
       "8                        [python, keras, tensorflow, lstm]\n",
       "9                 [neural-network, feature-selection, mlp]\n",
       "10               [predictive-modeling, recommender-system]\n",
       "11                         [python, classification, keras]\n",
       "12                                [python, neural-network]\n",
       "13                                      [python, anaconda]\n",
       "14          [python, neural-network, deep-learning, keras]\n",
       "15                   [python, scikit-learn, random-forest]\n",
       "16       [data-mining, time-series, lstm, rnn, data-cle...\n",
       "17                               [python, dataset, pandas]\n",
       "18                                                 [keras]\n",
       "19            [data-mining, dataset, statistics, sampling]\n",
       "20                       [statistics, feature-engineering]\n",
       "21              [clustering, similarity, variance, dbscan]\n",
       "22                                  [scikit-learn, graphs]\n",
       "23         [python, data, decision-trees, prediction, h2o]\n",
       "24                           [classification, keras, lstm]\n",
       "25                                       [word-embeddings]\n",
       "26           [python, scikit-learn, nlp, topic-model, lda]\n",
       "27               [regression, prediction, class-imbalance]\n",
       "28                       [machine-learning, deep-learning]\n",
       "29       [machine-learning, deep-learning, keras, sciki...\n",
       "                               ...                        \n",
       "21546    [machine-learning, classification, statistics,...\n",
       "21547    [deep-learning, lstm, training, recurrent-neur...\n",
       "21548      [data-mining, bigdata, social-network-analysis]\n",
       "21549                                              [keras]\n",
       "21550      [python, neural-network, unsupervised-learning]\n",
       "21551    [machine-learning, deep-learning, reinforcemen...\n",
       "21552                    [machine-learning, deep-learning]\n",
       "21553                                     [keras, reshape]\n",
       "21554                   [machine-learning, decision-trees]\n",
       "21555            [machine-learning, python, deep-learning]\n",
       "21556                                      [data-cleaning]\n",
       "21557             [python, deep-learning, tensorflow, cnn]\n",
       "21558                        [deep-learning, nlp, dataset]\n",
       "21559     [machine-learning, data-mining, graphical-model]\n",
       "21560                [machine-learning, transfer-learning]\n",
       "21561        [machine-learning, regression, loss-function]\n",
       "21562                             [machine-learning, k-nn]\n",
       "21563                               [python, scikit-learn]\n",
       "21564               [deep-learning, classification, mnist]\n",
       "21565       [python, scikit-learn, svm, anomaly-detection]\n",
       "21566    [neural-network, time-series, lstm, recurrent-...\n",
       "21567         [machine-learning, data-mining, text-mining]\n",
       "21568                                           [cnn, rnn]\n",
       "21569    [python, statistics, visualization, categorica...\n",
       "21570           [machine-learning, keras, tensorflow, cnn]\n",
       "21571                                   [statistics, data]\n",
       "21572       [machine-learning, neural-network, classifier]\n",
       "21573                   [machine-learning, classification]\n",
       "21574                                 [tensorflow, python]\n",
       "21575                  [python, deep-learning, tensorflow]\n",
       "Name: Tags, Length: 21576, dtype: object"
      ]
     },
     "execution_count": 50,
     "metadata": {},
     "output_type": "execute_result"
    }
   ],
   "source": [
    "all_q[\"Tags\"]"
   ]
  },
  {
   "cell_type": "code",
   "execution_count": 51,
   "metadata": {
    "collapsed": true
   },
   "outputs": [],
   "source": [
    "# identify deep learning questions\n",
    "\n",
    "def is_dl(tags):\n",
    "    for tag in tags:\n",
    "        if tag in [\"keras\", \"cnn\", \"tensorflow\", \"neural-network\", \"lstm\", \"deep-learning\", \"rnn\", \"scikit-learn\"]:\n",
    "            return 1\n",
    "        else:\n",
    "            return 0"
   ]
  },
  {
   "cell_type": "code",
   "execution_count": 52,
   "metadata": {
    "collapsed": true
   },
   "outputs": [],
   "source": [
    "all_q[\"DL\"] = all_q[\"Tags\"].apply(is_dl)"
   ]
  },
  {
   "cell_type": "code",
   "execution_count": 61,
   "metadata": {
    "collapsed": false
   },
   "outputs": [
    {
     "data": {
      "text/html": [
       "<div>\n",
       "<style scoped>\n",
       "    .dataframe tbody tr th:only-of-type {\n",
       "        vertical-align: middle;\n",
       "    }\n",
       "\n",
       "    .dataframe tbody tr th {\n",
       "        vertical-align: top;\n",
       "    }\n",
       "\n",
       "    .dataframe thead th {\n",
       "        text-align: right;\n",
       "    }\n",
       "</style>\n",
       "<table border=\"1\" class=\"dataframe\">\n",
       "  <thead>\n",
       "    <tr style=\"text-align: right;\">\n",
       "      <th></th>\n",
       "      <th>Id</th>\n",
       "      <th>CreationDate</th>\n",
       "      <th>Tags</th>\n",
       "      <th>DL</th>\n",
       "    </tr>\n",
       "  </thead>\n",
       "  <tbody>\n",
       "    <tr>\n",
       "      <th>8584</th>\n",
       "      <td>28269</td>\n",
       "      <td>2018-02-24 20:00:00</td>\n",
       "      <td>[machine-learning, python, natural-language-pr...</td>\n",
       "      <td>0</td>\n",
       "    </tr>\n",
       "    <tr>\n",
       "      <th>12568</th>\n",
       "      <td>51860</td>\n",
       "      <td>2019-05-13 02:44:35</td>\n",
       "      <td>[keras, cnn, lstm, image-classification, trans...</td>\n",
       "      <td>1</td>\n",
       "    </tr>\n",
       "    <tr>\n",
       "      <th>17684</th>\n",
       "      <td>32515</td>\n",
       "      <td>2018-06-01 19:52:45</td>\n",
       "      <td>[time-series, methodology, methods]</td>\n",
       "      <td>0</td>\n",
       "    </tr>\n",
       "    <tr>\n",
       "      <th>10469</th>\n",
       "      <td>19620</td>\n",
       "      <td>2017-06-11 02:39:27</td>\n",
       "      <td>[data-mining, dataset, preprocessing]</td>\n",
       "      <td>0</td>\n",
       "    </tr>\n",
       "    <tr>\n",
       "      <th>2603</th>\n",
       "      <td>56493</td>\n",
       "      <td>2019-07-27 17:25:56</td>\n",
       "      <td>[machine-learning, classification, scikit-lear...</td>\n",
       "      <td>0</td>\n",
       "    </tr>\n",
       "  </tbody>\n",
       "</table>\n",
       "</div>"
      ],
      "text/plain": [
       "          Id        CreationDate  \\\n",
       "8584   28269 2018-02-24 20:00:00   \n",
       "12568  51860 2019-05-13 02:44:35   \n",
       "17684  32515 2018-06-01 19:52:45   \n",
       "10469  19620 2017-06-11 02:39:27   \n",
       "2603   56493 2019-07-27 17:25:56   \n",
       "\n",
       "                                                    Tags  DL  \n",
       "8584   [machine-learning, python, natural-language-pr...   0  \n",
       "12568  [keras, cnn, lstm, image-classification, trans...   1  \n",
       "17684                [time-series, methodology, methods]   0  \n",
       "10469              [data-mining, dataset, preprocessing]   0  \n",
       "2603   [machine-learning, classification, scikit-lear...   0  "
      ]
     },
     "execution_count": 61,
     "metadata": {},
     "output_type": "execute_result"
    }
   ],
   "source": [
    "all_q.sample(5)"
   ]
  },
  {
   "cell_type": "markdown",
   "metadata": {},
   "source": [
    "Let's track interest in deep learning before 2020."
   ]
  },
  {
   "cell_type": "code",
   "execution_count": 62,
   "metadata": {
    "collapsed": true
   },
   "outputs": [],
   "source": [
    "all_q = all_q[all_q[\"CreationDate\"].dt.year < 2020]"
   ]
  },
  {
   "cell_type": "code",
   "execution_count": 64,
   "metadata": {
    "collapsed": false
   },
   "outputs": [],
   "source": [
    "# get the quarter\n",
    "def get_quarter(datetime):\n",
    "    year = str(datetime.year)[-2:]\n",
    "    quarter = str(((datetime.month-1) // 3) + 1)\n",
    "    return \"{y}Q{q}\".format(y=year, q=quarter)\n",
    "\n",
    "all_q[\"Quarter\"] = all_q[\"CreationDate\"].apply(get_quarter)"
   ]
  },
  {
   "cell_type": "code",
   "execution_count": 65,
   "metadata": {
    "collapsed": false
   },
   "outputs": [
    {
     "data": {
      "text/html": [
       "<div>\n",
       "<style scoped>\n",
       "    .dataframe tbody tr th:only-of-type {\n",
       "        vertical-align: middle;\n",
       "    }\n",
       "\n",
       "    .dataframe tbody tr th {\n",
       "        vertical-align: top;\n",
       "    }\n",
       "\n",
       "    .dataframe thead th {\n",
       "        text-align: right;\n",
       "    }\n",
       "</style>\n",
       "<table border=\"1\" class=\"dataframe\">\n",
       "  <thead>\n",
       "    <tr style=\"text-align: right;\">\n",
       "      <th></th>\n",
       "      <th>Id</th>\n",
       "      <th>CreationDate</th>\n",
       "      <th>Tags</th>\n",
       "      <th>DL</th>\n",
       "      <th>Quarter</th>\n",
       "    </tr>\n",
       "  </thead>\n",
       "  <tbody>\n",
       "    <tr>\n",
       "      <th>8216</th>\n",
       "      <td>41056</td>\n",
       "      <td>2018-11-11 19:22:06</td>\n",
       "      <td>[machine-learning, neural-network, keras]</td>\n",
       "      <td>0</td>\n",
       "      <td>18Q4</td>\n",
       "    </tr>\n",
       "    <tr>\n",
       "      <th>5269</th>\n",
       "      <td>26813</td>\n",
       "      <td>2018-01-19 04:05:24</td>\n",
       "      <td>[dataset, image-classification, overfitting, cnn]</td>\n",
       "      <td>0</td>\n",
       "      <td>18Q1</td>\n",
       "    </tr>\n",
       "    <tr>\n",
       "      <th>2951</th>\n",
       "      <td>46780</td>\n",
       "      <td>2019-03-06 11:43:50</td>\n",
       "      <td>[classification, categorical-data, word-embedd...</td>\n",
       "      <td>0</td>\n",
       "      <td>19Q1</td>\n",
       "    </tr>\n",
       "    <tr>\n",
       "      <th>6625</th>\n",
       "      <td>58277</td>\n",
       "      <td>2019-08-27 15:54:09</td>\n",
       "      <td>[time-series, predictive-modeling, cnn, anomal...</td>\n",
       "      <td>0</td>\n",
       "      <td>19Q3</td>\n",
       "    </tr>\n",
       "    <tr>\n",
       "      <th>18222</th>\n",
       "      <td>12344</td>\n",
       "      <td>2016-06-22 11:13:57</td>\n",
       "      <td>[machine-learning, classification, data-mining...</td>\n",
       "      <td>0</td>\n",
       "      <td>16Q2</td>\n",
       "    </tr>\n",
       "  </tbody>\n",
       "</table>\n",
       "</div>"
      ],
      "text/plain": [
       "          Id        CreationDate  \\\n",
       "8216   41056 2018-11-11 19:22:06   \n",
       "5269   26813 2018-01-19 04:05:24   \n",
       "2951   46780 2019-03-06 11:43:50   \n",
       "6625   58277 2019-08-27 15:54:09   \n",
       "18222  12344 2016-06-22 11:13:57   \n",
       "\n",
       "                                                    Tags  DL Quarter  \n",
       "8216           [machine-learning, neural-network, keras]   0    18Q4  \n",
       "5269   [dataset, image-classification, overfitting, cnn]   0    18Q1  \n",
       "2951   [classification, categorical-data, word-embedd...   0    19Q1  \n",
       "6625   [time-series, predictive-modeling, cnn, anomal...   0    19Q3  \n",
       "18222  [machine-learning, classification, data-mining...   0    16Q2  "
      ]
     },
     "execution_count": 65,
     "metadata": {},
     "output_type": "execute_result"
    }
   ],
   "source": [
    "all_q.sample(5)"
   ]
  },
  {
   "cell_type": "code",
   "execution_count": 67,
   "metadata": {
    "collapsed": false
   },
   "outputs": [],
   "source": [
    "q_per_quarter = all_q.groupby([\"Quarter\"]).agg({\"DL\":[\"sum\", \"size\"]})"
   ]
  },
  {
   "cell_type": "code",
   "execution_count": 68,
   "metadata": {
    "collapsed": true
   },
   "outputs": [],
   "source": [
    "q_per_quarter.columns = [\"DLquestions\", \"totalq\"]"
   ]
  },
  {
   "cell_type": "code",
   "execution_count": 69,
   "metadata": {
    "collapsed": true
   },
   "outputs": [],
   "source": [
    "q_per_quarter[\"rate\"] = q_per_quarter[\"DLquestions\"] / q_per_quarter[\"totalq\"]"
   ]
  },
  {
   "cell_type": "code",
   "execution_count": 70,
   "metadata": {
    "collapsed": true
   },
   "outputs": [],
   "source": [
    "q_per_quarter.reset_index(inplace=True)"
   ]
  },
  {
   "cell_type": "code",
   "execution_count": 71,
   "metadata": {
    "collapsed": false
   },
   "outputs": [
    {
     "data": {
      "text/html": [
       "<div>\n",
       "<style scoped>\n",
       "    .dataframe tbody tr th:only-of-type {\n",
       "        vertical-align: middle;\n",
       "    }\n",
       "\n",
       "    .dataframe tbody tr th {\n",
       "        vertical-align: top;\n",
       "    }\n",
       "\n",
       "    .dataframe thead th {\n",
       "        text-align: right;\n",
       "    }\n",
       "</style>\n",
       "<table border=\"1\" class=\"dataframe\">\n",
       "  <thead>\n",
       "    <tr style=\"text-align: right;\">\n",
       "      <th></th>\n",
       "      <th>Quarter</th>\n",
       "      <th>DLquestions</th>\n",
       "      <th>totalq</th>\n",
       "      <th>rate</th>\n",
       "    </tr>\n",
       "  </thead>\n",
       "  <tbody>\n",
       "    <tr>\n",
       "      <th>22</th>\n",
       "      <td>19Q4</td>\n",
       "      <td>415</td>\n",
       "      <td>2036</td>\n",
       "      <td>0.203831</td>\n",
       "    </tr>\n",
       "    <tr>\n",
       "      <th>9</th>\n",
       "      <td>16Q3</td>\n",
       "      <td>70</td>\n",
       "      <td>585</td>\n",
       "      <td>0.119658</td>\n",
       "    </tr>\n",
       "    <tr>\n",
       "      <th>17</th>\n",
       "      <td>18Q3</td>\n",
       "      <td>332</td>\n",
       "      <td>1512</td>\n",
       "      <td>0.219577</td>\n",
       "    </tr>\n",
       "    <tr>\n",
       "      <th>19</th>\n",
       "      <td>19Q1</td>\n",
       "      <td>411</td>\n",
       "      <td>1987</td>\n",
       "      <td>0.206844</td>\n",
       "    </tr>\n",
       "    <tr>\n",
       "      <th>16</th>\n",
       "      <td>18Q2</td>\n",
       "      <td>269</td>\n",
       "      <td>1448</td>\n",
       "      <td>0.185773</td>\n",
       "    </tr>\n",
       "  </tbody>\n",
       "</table>\n",
       "</div>"
      ],
      "text/plain": [
       "   Quarter  DLquestions  totalq      rate\n",
       "22    19Q4          415    2036  0.203831\n",
       "9     16Q3           70     585  0.119658\n",
       "17    18Q3          332    1512  0.219577\n",
       "19    19Q1          411    1987  0.206844\n",
       "16    18Q2          269    1448  0.185773"
      ]
     },
     "execution_count": 71,
     "metadata": {},
     "output_type": "execute_result"
    }
   ],
   "source": [
    "q_per_quarter.sample(5)"
   ]
  },
  {
   "cell_type": "code",
   "execution_count": 73,
   "metadata": {
    "collapsed": false
   },
   "outputs": [
    {
     "data": {
      "image/png": "[encoded data removed]",
      "text/plain": [
       "<matplotlib.figure.Figure at 0x7f77d51c2cf8>"
      ]
     },
     "metadata": {},
     "output_type": "display_data"
    }
   ],
   "source": [
    "ax1 = q_per_quarter.plot(x=\"Quarter\", y=\"rate\",\n",
    "                    kind=\"line\", linestyle=\"-\", marker=\"o\", color=\"orange\",\n",
    "                    figsize=(24,12)\n",
    "                    )\n",
    "\n",
    "ax2 = q_per_quarter.plot(x=\"Quarter\", y=\"totalq\",\n",
    "                     kind=\"bar\", ax=ax1, secondary_y=True, alpha=0.7, rot=45)\n",
    "\n",
    "for idx, t in enumerate(q_per_quarter[\"totalq\"]):\n",
    "    ax2.text(idx, t, str(t), ha=\"center\", va=\"bottom\")\n",
    "xlims = ax1.get_xlim()\n",
    "\n",
    "ax1.get_legend().remove()\n",
    "\n",
    "handles1, labels1 = ax1.get_legend_handles_labels()\n",
    "handles2, labels2 = ax2.get_legend_handles_labels()\n",
    "ax1.legend(handles=handles1 + handles2,\n",
    "           labels=labels1 + labels2,\n",
    "           loc=\"upper left\", prop={\"size\": 12})\n",
    "\n",
    "\n",
    "for ax in (ax1, ax2):\n",
    "    for where in (\"top\", \"right\"):\n",
    "        ax.spines[where].set_visible(False)\n",
    "        ax.tick_params(right=False, labelright=False)"
   ]
  },
  {
   "cell_type": "markdown",
   "metadata": {},
   "source": [
    "It looks like interest in deep learning has been increasing since the beginning of DSSE. However, it seems like the interest is plateauing. Since there is no sign of decreasing interest, we continue with the idea of making deep learing content"
   ]
  }
 ],
 "metadata": {
  "kernelspec": {
   "display_name": "Python 3",
   "language": "python",
   "name": "python3"
  },
  "language_info": {
   "codemirror_mode": {
    "name": "ipython",
    "version": 3
   },
   "file_extension": ".py",
   "mimetype": "text/x-python",
   "name": "python",
   "nbconvert_exporter": "python",
   "pygments_lexer": "ipython3",
   "version": "3.4.3"
  }
 },
 "nbformat": 4,
 "nbformat_minor": 2
}
